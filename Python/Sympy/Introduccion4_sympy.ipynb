{
 "cells": [
  {
   "cell_type": "markdown",
   "metadata": {},
   "source": [
    "#### ***Torres Molina Emmanuel***"
   ]
  },
  {
   "cell_type": "markdown",
   "metadata": {},
   "source": [
    "# **Cuarta Introducción al Lenguaje Simbólico usando el paquete Sympy que ofrece Python**"
   ]
  },
  {
   "cell_type": "markdown",
   "metadata": {},
   "source": []
  },
  {
   "cell_type": "markdown",
   "metadata": {},
   "source": [
    "###############################################################################################################################"
   ]
  },
  {
   "cell_type": "code",
   "execution_count": 1,
   "metadata": {},
   "outputs": [
    {
     "name": "stdout",
     "output_type": "stream",
     "text": [
      "IPython console for SymPy 1.5.1 (Python 3.7.7-64-bit) (ground types: python)\n",
      "\n",
      "These commands were executed:\n",
      ">>> from __future__ import division\n",
      ">>> from sympy import *\n",
      ">>> x, y, z, t = symbols('x y z t')\n",
      ">>> k, m, n = symbols('k m n', integer=True)\n",
      ">>> f, g, h = symbols('f g h', cls=Function)\n",
      ">>> init_printing()\n",
      "\n",
      "Documentation can be found at https://docs.sympy.org/1.5.1/\n",
      "\n"
     ]
    }
   ],
   "source": [
    "# Importo los paquetes y módulos a Utilizar en este notebook:\n",
    "from sympy import init_session\n",
    "init_session (use_latex = True)\n",
    "from sympy import *"
   ]
  },
  {
   "cell_type": "markdown",
   "metadata": {},
   "source": [
    "###############################################################################################################################"
   ]
  },
  {
   "cell_type": "markdown",
   "metadata": {},
   "source": [
    "* ### **Series:**"
   ]
  },
  {
   "cell_type": "markdown",
   "metadata": {},
   "source": [
    "#### Sympy ofrece el método \".series ( )\" o la función \"series ( )\" para calcular la serie de una expresión."
   ]
  },
  {
   "cell_type": "code",
   "execution_count": 2,
   "metadata": {},
   "outputs": [
    {
     "data": {
      "image/png": "[encoded data removed]",
      "text/latex": [
       "$\\displaystyle \\sin{\\left(x \\right)}$"
      ],
      "text/plain": [
       "sin(x)"
      ]
     },
     "execution_count": 2,
     "metadata": {},
     "output_type": "execute_result"
    }
   ],
   "source": [
    "# Creo una expresión:\n",
    "expres = sin (x)\n",
    "expres"
   ]
  },
  {
   "cell_type": "code",
   "execution_count": 4,
   "metadata": {},
   "outputs": [
    {
     "data": {
      "image/png": "[encoded data removed]",
      "text/latex": [
       "$\\displaystyle x - \\frac{x^{3}}{6} + \\frac{x^{5}}{120} + O\\left(x^{6}\\right)$"
      ],
      "text/plain": [
       "     3     5        \n",
       "    x     x     ⎛ 6⎞\n",
       "x - ── + ─── + O⎝x ⎠\n",
       "    6    120        "
      ]
     },
     "execution_count": 4,
     "metadata": {},
     "output_type": "execute_result"
    }
   ],
   "source": [
    "# Ahora la desarrollo en serie...\n",
    "# En este caso quiero la Serie de Taylor de la expresión.\n",
    "s = series (expres, x)\n",
    "s"
   ]
  },
  {
   "cell_type": "code",
   "execution_count": 5,
   "metadata": {},
   "outputs": [
    {
     "data": {
      "image/png": "[encoded data removed]",
      "text/latex": [
       "$\\displaystyle x - \\frac{x^{3}}{6} + \\frac{x^{5}}{120} - \\frac{x^{7}}{5040} + \\frac{x^{9}}{362880} + O\\left(x^{10}\\right)$"
      ],
      "text/plain": [
       "     3     5     7       9           \n",
       "    x     x     x       x       ⎛ 10⎞\n",
       "x - ── + ─── - ──── + ────── + O⎝x  ⎠\n",
       "    6    120   5040   362880         "
      ]
     },
     "execution_count": 5,
     "metadata": {},
     "output_type": "execute_result"
    }
   ],
   "source": [
    "# Al pasarle a la función \"series ( )\" solo la variable sin otro parámetro, la misma calcula hasta una cierta potencia\n",
    "# por defecto.\n",
    "# Sympy por defecto va a tomar como punto central 'x = 0'\n",
    "# Si quisiera indicarle hasta que potencia quiero la serie, se lo debo pasar como argumento de la forma: \"n = pow\"\n",
    "# donde 'pow' indica el número de potencia.\n",
    "\n",
    "# Indicamos ahora hasta que potencia del termino quiero...\n",
    "s = series (expres, x, n = 10)\n",
    "s"
   ]
  },
  {
   "cell_type": "code",
   "execution_count": 9,
   "metadata": {},
   "outputs": [
    {
     "data": {
      "image/png": "[encoded data removed]",
      "text/latex": [
       "$\\displaystyle \\frac{x^{9}}{362880} - \\frac{x^{7}}{5040} + \\frac{x^{5}}{120} - \\frac{x^{3}}{6} + x$"
      ],
      "text/plain": [
       "   9       7      5    3    \n",
       "  x       x      x    x     \n",
       "────── - ──── + ─── - ── + x\n",
       "362880   5040   120   6     "
      ]
     },
     "execution_count": 9,
     "metadata": {},
     "output_type": "execute_result"
    }
   ],
   "source": [
    "# El resultado anterior es correcto, ya que la función \"sen(x)\" posee términos impares, que según lo pasado como \n",
    "# argumento, llega hasta la potencia '9'\n",
    "\n",
    "# En caso de que moleste el término 'O (x^..)' lo podemos quitar con el método \".removeO ( )\".\n",
    "s.removeO( )"
   ]
  },
  {
   "cell_type": "code",
   "execution_count": 10,
   "metadata": {},
   "outputs": [
    {
     "data": {
      "image/png": "[encoded data removed]",
      "text/latex": [
       "$\\displaystyle \\frac{\\sqrt{3}}{2} - \\frac{\\pi}{6} - \\frac{\\sqrt{3} \\left(x - \\frac{\\pi}{3}\\right)^{2}}{4} - \\frac{\\left(x - \\frac{\\pi}{3}\\right)^{3}}{12} + \\frac{\\sqrt{3} \\left(x - \\frac{\\pi}{3}\\right)^{4}}{48} + \\frac{\\left(x - \\frac{\\pi}{3}\\right)^{5}}{240} - \\frac{\\sqrt{3} \\left(x - \\frac{\\pi}{3}\\right)^{6}}{1440} - \\frac{\\left(x - \\frac{\\pi}{3}\\right)^{7}}{10080} + \\frac{\\sqrt{3} \\left(x - \\frac{\\pi}{3}\\right)^{8}}{80640} + \\frac{\\left(x - \\frac{\\pi}{3}\\right)^{9}}{725760} + \\frac{x}{2} + O\\left(\\left(x - \\frac{\\pi}{3}\\right)^{10}; x\\rightarrow \\frac{\\pi}{3}\\right)$"
      ],
      "text/plain": [
       "                   2          3             4          5             6        \n",
       "            ⎛    π⎞    ⎛    π⎞       ⎛    π⎞    ⎛    π⎞       ⎛    π⎞    ⎛    \n",
       "         √3⋅⎜x - ─⎟    ⎜x - ─⎟    √3⋅⎜x - ─⎟    ⎜x - ─⎟    √3⋅⎜x - ─⎟    ⎜x - \n",
       "√3   π      ⎝    3⎠    ⎝    3⎠       ⎝    3⎠    ⎝    3⎠       ⎝    3⎠    ⎝    \n",
       "── - ─ - ─────────── - ──────── + ─────────── + ──────── - ─────────── - ─────\n",
       "2    6        4           12           48         240          1440       1008\n",
       "\n",
       "  7             8          9                          \n",
       "π⎞       ⎛    π⎞    ⎛    π⎞                           \n",
       "─⎟    √3⋅⎜x - ─⎟    ⎜x - ─⎟         ⎛       10       ⎞\n",
       "3⎠       ⎝    3⎠    ⎝    3⎠    x    ⎜⎛    π⎞        π⎟\n",
       "─── + ─────────── + ──────── + ─ + O⎜⎜x - ─⎟  ; x → ─⎟\n",
       "0        80640       725760    2    ⎝⎝    3⎠        3⎠"
      ]
     },
     "execution_count": 10,
     "metadata": {},
     "output_type": "execute_result"
    }
   ],
   "source": [
    "# Si ahora quisiera especificar sobre que punto en concreto quiero realizar la serie...\n",
    "s = series(expres, x, n = 10, x0 = pi/3)\n",
    "s"
   ]
  },
  {
   "cell_type": "code",
   "execution_count": 11,
   "metadata": {},
   "outputs": [
    {
     "data": {
      "image/png": "[encoded data removed]",
      "text/latex": [
       "$\\displaystyle \\frac{x}{2} + \\frac{\\left(x - \\frac{\\pi}{3}\\right)^{9}}{725760} + \\frac{\\sqrt{3} \\left(x - \\frac{\\pi}{3}\\right)^{8}}{80640} - \\frac{\\left(x - \\frac{\\pi}{3}\\right)^{7}}{10080} - \\frac{\\sqrt{3} \\left(x - \\frac{\\pi}{3}\\right)^{6}}{1440} + \\frac{\\left(x - \\frac{\\pi}{3}\\right)^{5}}{240} + \\frac{\\sqrt{3} \\left(x - \\frac{\\pi}{3}\\right)^{4}}{48} - \\frac{\\left(x - \\frac{\\pi}{3}\\right)^{3}}{12} - \\frac{\\sqrt{3} \\left(x - \\frac{\\pi}{3}\\right)^{2}}{4} - \\frac{\\pi}{6} + \\frac{\\sqrt{3}}{2}$"
      ],
      "text/plain": [
       "           9             8          7             6          5             4  \n",
       "    ⎛    π⎞       ⎛    π⎞    ⎛    π⎞       ⎛    π⎞    ⎛    π⎞       ⎛    π⎞   \n",
       "    ⎜x - ─⎟    √3⋅⎜x - ─⎟    ⎜x - ─⎟    √3⋅⎜x - ─⎟    ⎜x - ─⎟    √3⋅⎜x - ─⎟   \n",
       "x   ⎝    3⎠       ⎝    3⎠    ⎝    3⎠       ⎝    3⎠    ⎝    3⎠       ⎝    3⎠   \n",
       "─ + ──────── + ─────────── - ──────── - ─────────── + ──────── + ─────────── -\n",
       "2    725760       80640       10080         1440        240           48      \n",
       "\n",
       "        3             2         \n",
       " ⎛    π⎞       ⎛    π⎞          \n",
       " ⎜x - ─⎟    √3⋅⎜x - ─⎟          \n",
       " ⎝    3⎠       ⎝    3⎠    π   √3\n",
       " ──────── - ─────────── - ─ + ──\n",
       "    12           4        6   2 "
      ]
     },
     "execution_count": 11,
     "metadata": {},
     "output_type": "execute_result"
    }
   ],
   "source": [
    "# Haciendo uso de '.removeo ( )':\n",
    "s.removeO ( )"
   ]
  },
  {
   "cell_type": "markdown",
   "metadata": {},
   "source": []
  },
  {
   "cell_type": "markdown",
   "metadata": {},
   "source": [
    "###############################################################################################################################"
   ]
  },
  {
   "cell_type": "markdown",
   "metadata": {},
   "source": [
    "* ### **Resolución de Ecuaciones:**"
   ]
  },
  {
   "cell_type": "markdown",
   "metadata": {},
   "source": [
    "##### *Para poder crear una ecuación simbólica no se puede hacer con el signo '=' ya que eso sería asignación. Voy a utilizar la función \"Eq ( )\" que ofrece sympy.*"
   ]
  },
  {
   "cell_type": "code",
   "execution_count": 22,
   "metadata": {},
   "outputs": [
    {
     "data": {
      "image/png": "[encoded data removed]",
      "text/latex": [
       "$\\displaystyle x + 1 = 4 - x$"
      ],
      "text/plain": [
       "x + 1 = 4 - x"
      ]
     },
     "execution_count": 22,
     "metadata": {},
     "output_type": "execute_result"
    }
   ],
   "source": [
    "# Creo la ecuación, usando la función 'Eq ( )' y le paso los parámetros para ver como es la relación de igualdad.\n",
    "ecuac = Eq ( x + 1, 4 - x )\n",
    "ecuac"
   ]
  },
  {
   "cell_type": "code",
   "execution_count": 23,
   "metadata": {},
   "outputs": [
    {
     "data": {
      "image/png": "[encoded data removed]",
      "text/latex": [
       "$\\displaystyle 2 x - 3 = 0$"
      ],
      "text/plain": [
       "2⋅x - 3 = 0"
      ]
     },
     "execution_count": 23,
     "metadata": {},
     "output_type": "execute_result"
    }
   ],
   "source": [
    "# Otra forma de expresarla es pasando todos los términos hacia la izquierda.\n",
    "# Si hago esto, python va a interpretar que la ecuación va a estar igualada a 0.\n",
    "ecuac = Eq (x + 1 - 4 + x, )\n",
    "ecuac"
   ]
  },
  {
   "cell_type": "code",
   "execution_count": 25,
   "metadata": {},
   "outputs": [
    {
     "data": {
      "image/png": "[encoded data removed]",
      "text/latex": [
       "$\\displaystyle \\left[ \\frac{3}{2}\\right]$"
      ],
      "text/plain": [
       "[3/2]"
      ]
     },
     "execution_count": 25,
     "metadata": {},
     "output_type": "execute_result"
    }
   ],
   "source": [
    "# Si quiero resolver dicha ecuación usamos la función 'solve ( )'\n",
    "# Le debo pasar la ecuación a resolver y la variable incógnita.\n",
    "# Tener en cuenta que quizás python no pueda resolver algunas ecuaciones transcendentales..\n",
    "resul_ecuac = solve (ecuac, x)\n",
    "resul_ecuac"
   ]
  },
  {
   "cell_type": "code",
   "execution_count": 28,
   "metadata": {},
   "outputs": [
    {
     "data": {
      "image/png": "[encoded data removed]",
      "text/latex": [
       "$\\displaystyle x^{3} + 2 x^{2} + 2 x + 1 = 0$"
      ],
      "text/plain": [
       " 3      2              \n",
       "x  + 2⋅x  + 2⋅x + 1 = 0"
      ]
     },
     "execution_count": 28,
     "metadata": {},
     "output_type": "execute_result"
    }
   ],
   "source": [
    "# Si quisiera resolver una ecuación que tiene varias soluciones...\n",
    "ecuac3 = Eq (x**3 + 2*x**2 + 2*x + 1, )\n",
    "ecuac3"
   ]
  },
  {
   "cell_type": "code",
   "execution_count": 30,
   "metadata": {},
   "outputs": [
    {
     "data": {
      "image/png": "[encoded data removed]",
      "text/latex": [
       "$\\displaystyle \\left[ -1, \\  - \\frac{1}{2} - \\frac{\\sqrt{3} i}{2}, \\  - \\frac{1}{2} + \\frac{\\sqrt{3} i}{2}\\right]$"
      ],
      "text/plain": [
       "⎡      1   √3⋅ⅈ    1   √3⋅ⅈ⎤\n",
       "⎢-1, - ─ - ────, - ─ + ────⎥\n",
       "⎣      2    2      2    2  ⎦"
      ]
     },
     "execution_count": 30,
     "metadata": {},
     "output_type": "execute_result"
    }
   ],
   "source": [
    "sol =solve (ecuac3, x)\n",
    "sol"
   ]
  },
  {
   "cell_type": "code",
   "execution_count": 31,
   "metadata": {},
   "outputs": [
    {
     "data": {
      "image/png": "[encoded data removed]",
      "text/latex": [
       "$\\displaystyle -1$"
      ],
      "text/plain": [
       "-1"
      ]
     },
     "execution_count": 31,
     "metadata": {},
     "output_type": "execute_result"
    }
   ],
   "source": [
    "# Python me devolvió 3 soluciones para la ecuación de 3er orden, lo que es correcto,\n",
    "# Si quiero acceder a una de las soluciones, puedo hacerlo, ya que me las devuelve en una lista.\n",
    "\n",
    "# Accedo a la Solución 1:\n",
    "sol[0]"
   ]
  },
  {
   "cell_type": "code",
   "execution_count": 32,
   "metadata": {},
   "outputs": [
    {
     "data": {
      "image/png": "[encoded data removed]",
      "text/latex": [
       "$\\displaystyle - \\frac{1}{2} - \\frac{\\sqrt{3} i}{2}$"
      ],
      "text/plain": [
       "  1   √3⋅ⅈ\n",
       "- ─ - ────\n",
       "  2    2  "
      ]
     },
     "execution_count": 32,
     "metadata": {},
     "output_type": "execute_result"
    }
   ],
   "source": [
    "# Accedo a la Solución 2:\n",
    "sol[1]"
   ]
  },
  {
   "cell_type": "code",
   "execution_count": 33,
   "metadata": {},
   "outputs": [
    {
     "data": {
      "image/png": "[encoded data removed]",
      "text/latex": [
       "$\\displaystyle - \\frac{1}{2} + \\frac{\\sqrt{3} i}{2}$"
      ],
      "text/plain": [
       "  1   √3⋅ⅈ\n",
       "- ─ + ────\n",
       "  2    2  "
      ]
     },
     "execution_count": 33,
     "metadata": {},
     "output_type": "execute_result"
    }
   ],
   "source": [
    "# Y finalmente a la 3ra:\n",
    "sol[2]"
   ]
  },
  {
   "cell_type": "code",
   "execution_count": 36,
   "metadata": {},
   "outputs": [
    {
     "data": {
      "image/png": "[encoded data removed]",
      "text/latex": [
       "$\\displaystyle K = \\frac{9}{x^{2}}$"
      ],
      "text/plain": [
       "    9 \n",
       "K = ──\n",
       "     2\n",
       "    x "
      ]
     },
     "execution_count": 36,
     "metadata": {},
     "output_type": "execute_result"
    }
   ],
   "source": [
    "# También se puede Resolver una ecuación en forma Simbólica!!\n",
    "\n",
    "# Declaro una nueva variable simbólica...\n",
    "K = symbols ('K')\n",
    "\n",
    "# Creo la Ecuación...\n",
    "ecuacion = Eq (K, (3/x)**2)\n",
    "ecuacion"
   ]
  },
  {
   "cell_type": "code",
   "execution_count": 37,
   "metadata": {},
   "outputs": [
    {
     "data": {
      "image/png": "[encoded data removed]",
      "text/latex": [
       "$\\displaystyle \\left[ - 3 \\sqrt{\\frac{1}{K}}, \\  3 \\sqrt{\\frac{1}{K}}\\right]$"
      ],
      "text/plain": [
       "⎡       ___        ___⎤\n",
       "⎢      ╱ 1        ╱ 1 ⎥\n",
       "⎢-3⋅  ╱  ─ , 3⋅  ╱  ─ ⎥\n",
       "⎣   ╲╱   K     ╲╱   K ⎦"
      ]
     },
     "execution_count": 37,
     "metadata": {},
     "output_type": "execute_result"
    }
   ],
   "source": [
    "# Resolviendo la ecuación...\n",
    "r = solve (ecuacion, x)\n",
    "r"
   ]
  },
  {
   "cell_type": "markdown",
   "metadata": {},
   "source": []
  },
  {
   "cell_type": "markdown",
   "metadata": {},
   "source": [
    "###############################################################################################################################"
   ]
  },
  {
   "cell_type": "markdown",
   "metadata": {},
   "source": [
    "* ### **Ecuaciones Diferenciales:**"
   ]
  },
  {
   "cell_type": "markdown",
   "metadata": {},
   "source": [
    "##### *Python va a poder resolver algunas ecuaciones diferenciales, ya que algunas son muy complejas de resolver, pero para un fin académico es muy útil.*\n",
    "*Voy a Utilizar la función 'dsolve ( )' para resolver la siguiente ecuación diferencial:*\n",
    "\n",
    "\n",
    "$$y(x) + \\frac{\\partial}{\\partial x}y(x) + \\frac{\\partial^2}{\\partial x^2}y(x) = cos(x)$$"
   ]
  },
  {
   "cell_type": "code",
   "execution_count": 48,
   "metadata": {},
   "outputs": [
    {
     "data": {
      "image/png": "[encoded data removed]",
      "text/latex": [
       "$\\displaystyle y{\\left(x \\right)}$"
      ],
      "text/plain": [
       "y(x)"
      ]
     },
     "execution_count": 48,
     "metadata": {},
     "output_type": "execute_result"
    }
   ],
   "source": [
    "# Creo una Función...\n",
    "y = Function ('y')\n",
    "y = y (x)\n",
    "y"
   ]
  },
  {
   "cell_type": "code",
   "execution_count": 49,
   "metadata": {},
   "outputs": [
    {
     "data": {
      "image/png": "[encoded data removed]",
      "text/latex": [
       "$\\displaystyle y{\\left(x \\right)} + \\frac{d}{d x} y{\\left(x \\right)} + \\frac{d^{2}}{d x^{2}} y{\\left(x \\right)} = \\cos{\\left(x \\right)}$"
      ],
      "text/plain": [
       "                    2               \n",
       "       d           d                \n",
       "y(x) + ──(y(x)) + ───(y(x)) = cos(x)\n",
       "       dx           2               \n",
       "                  dx                "
      ]
     },
     "execution_count": 49,
     "metadata": {},
     "output_type": "execute_result"
    }
   ],
   "source": [
    "# Creo mi ecuación diferencial:\n",
    "edo = Eq (y + y.diff(x) + y.diff(x, 2), cos(x) )\n",
    "edo"
   ]
  },
  {
   "cell_type": "code",
   "execution_count": 53,
   "metadata": {},
   "outputs": [
    {
     "data": {
      "image/png": "[encoded data removed]",
      "text/latex": [
       "$\\displaystyle y{\\left(x \\right)} = \\frac{C_{1} \\sin{\\left(\\frac{\\sqrt{3} x}{2} \\right)} + C_{2} \\cos{\\left(\\frac{\\sqrt{3} x}{2} \\right)}}{\\sqrt{e^{x}}} + \\sin{\\left(x \\right)}$"
      ],
      "text/plain": [
       "             ⎛√3⋅x⎞         ⎛√3⋅x⎞         \n",
       "       C₁⋅sin⎜────⎟ + C₂⋅cos⎜────⎟         \n",
       "             ⎝ 2  ⎠         ⎝ 2  ⎠         \n",
       "y(x) = ─────────────────────────── + sin(x)\n",
       "                    ____                   \n",
       "                   ╱  x                    \n",
       "                 ╲╱  ℯ                     "
      ]
     },
     "execution_count": 53,
     "metadata": {},
     "output_type": "execute_result"
    }
   ],
   "source": [
    "# Ahora la resuelvo con la función 'dsolve ( )'\n",
    "# Debo pasarle como argumento, la ecuación diferencial a resolver, como también la función a obtener. (En este caso y(x)).\n",
    "solution = dsolve (edo, y)\n",
    "solution"
   ]
  }
 ],
 "metadata": {
  "kernelspec": {
   "display_name": "Python 3",
   "language": "python",
   "name": "python3"
  },
  "language_info": {
   "codemirror_mode": {
    "name": "ipython",
    "version": 3
   },
   "file_extension": ".py",
   "mimetype": "text/x-python",
   "name": "python",
   "nbconvert_exporter": "python",
   "pygments_lexer": "ipython3",
   "version": "3.7.7"
  },
  "latex_envs": {
   "LaTeX_envs_menu_present": true,
   "autoclose": false,
   "autocomplete": true,
   "bibliofile": "biblio.bib",
   "cite_by": "apalike",
   "current_citInitial": 1,
   "eqLabelWithNumbers": true,
   "eqNumInitial": 1,
   "hotkeys": {
    "equation": "Ctrl-E",
    "itemize": "Ctrl-I"
   },
   "labels_anchors": false,
   "latex_user_defs": false,
   "report_style_numbering": false,
   "user_envs_cfg": true
  }
 },
 "nbformat": 4,
 "nbformat_minor": 4
}
