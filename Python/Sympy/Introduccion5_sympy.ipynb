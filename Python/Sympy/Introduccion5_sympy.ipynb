{
 "cells": [
  {
   "cell_type": "markdown",
   "metadata": {},
   "source": [
    "#### ***Torres Molina Emmanuel***"
   ]
  },
  {
   "cell_type": "markdown",
   "metadata": {},
   "source": [
    "# **Quinta Introducción al Lenguaje Simbólico usando el paquete Sympy que ofrece Python**"
   ]
  },
  {
   "cell_type": "markdown",
   "metadata": {},
   "source": [
    "###############################################################################################################################"
   ]
  },
  {
   "cell_type": "markdown",
   "metadata": {},
   "source": []
  },
  {
   "cell_type": "code",
   "execution_count": 1,
   "metadata": {},
   "outputs": [
    {
     "name": "stdout",
     "output_type": "stream",
     "text": [
      "IPython console for SymPy 1.5.1 (Python 3.7.7-64-bit) (ground types: python)\n",
      "\n",
      "These commands were executed:\n",
      ">>> from __future__ import division\n",
      ">>> from sympy import *\n",
      ">>> x, y, z, t = symbols('x y z t')\n",
      ">>> k, m, n = symbols('k m n', integer=True)\n",
      ">>> f, g, h = symbols('f g h', cls=Function)\n",
      ">>> init_printing()\n",
      "\n",
      "Documentation can be found at https://docs.sympy.org/1.5.1/\n",
      "\n"
     ]
    }
   ],
   "source": [
    "# Importo los paquetes, móludos y funciones que voy a utilizar en este Notebook:\n",
    "from sympy import init_session\n",
    "init_session (use_latex = True)\n",
    "from sympy import *"
   ]
  },
  {
   "cell_type": "markdown",
   "metadata": {},
   "source": [
    "###############################################################################################################################"
   ]
  },
  {
   "cell_type": "markdown",
   "metadata": {},
   "source": [
    "* ### **Matrices:**"
   ]
  },
  {
   "cell_type": "markdown",
   "metadata": {},
   "source": [
    "#### *Sympy ofrece la posibilidad de crear matrices simbólicas con la función \"Matrix ( )\"*"
   ]
  },
  {
   "cell_type": "code",
   "execution_count": 4,
   "metadata": {},
   "outputs": [
    {
     "data": {
      "text/latex": [
       "$\\displaystyle \\left[\\begin{matrix}a & b\\\\c & d\\end{matrix}\\right]$"
      ],
      "text/plain": [
       "⎡a  b⎤\n",
       "⎢    ⎥\n",
       "⎣c  d⎦"
      ]
     },
     "execution_count": 4,
     "metadata": {},
     "output_type": "execute_result"
    }
   ],
   "source": [
    "# Creo las variables simbólicas..\n",
    "a, b, c, d = symbols ('a, b, c, d')\n",
    "\n",
    "# Ahora voy a crear una matriz cuadrada de 2x2 de variables simbólicas usando la función 'Matrix ( )':\n",
    "A = Matrix ( [\n",
    "    [a, b],\n",
    "    [c, d]\n",
    "])\n",
    "\n",
    "A"
   ]
  },
  {
   "cell_type": "code",
   "execution_count": 8,
   "metadata": {},
   "outputs": [
    {
     "data": {
      "image/png": "[encoded data removed]",
      "text/latex": [
       "$\\displaystyle \\left\\{ \\frac{a}{2} + \\frac{d}{2} - \\frac{\\sqrt{a^{2} - 2 a d + 4 b c + d^{2}}}{2} : 1, \\  \\frac{a}{2} + \\frac{d}{2} + \\frac{\\sqrt{a^{2} - 2 a d + 4 b c + d^{2}}}{2} : 1\\right\\}$"
      ],
      "text/plain": [
       "⎧           _________________________                _________________________\n",
       "⎪          ╱  2                    2                ╱  2                    2 \n",
       "⎨a   d   ╲╱  a  - 2⋅a⋅d + 4⋅b⋅c + d       a   d   ╲╱  a  - 2⋅a⋅d + 4⋅b⋅c + d  \n",
       "⎪─ + ─ - ────────────────────────────: 1, ─ + ─ + ────────────────────────────\n",
       "⎩2   2                2                   2   2                2              \n",
       "\n",
       "   ⎫\n",
       "   ⎪\n",
       "   ⎬\n",
       ": 1⎪\n",
       "   ⎭"
      ]
     },
     "execution_count": 8,
     "metadata": {},
     "output_type": "execute_result"
    }
   ],
   "source": [
    "# Si quiero calcular los 'autovalores' de la matriz, uso el método \".eigenvals ( )\":\n",
    "autoval = A.eigenvals ( )\n",
    "autoval"
   ]
  },
  {
   "cell_type": "code",
   "execution_count": 9,
   "metadata": {},
   "outputs": [
    {
     "data": {
      "text/latex": [
       "$\\displaystyle \\left[ \\left( \\frac{a}{2} + \\frac{d}{2} - \\frac{\\sqrt{a^{2} - 2 a d + 4 b c + d^{2}}}{2}, \\  1, \\  \\left[ \\left[\\begin{matrix}- \\frac{b}{\\frac{a}{2} - \\frac{d}{2} + \\frac{\\sqrt{a^{2} - 2 a d + 4 b c + d^{2}}}{2}}\\\\1\\end{matrix}\\right]\\right]\\right), \\  \\left( \\frac{a}{2} + \\frac{d}{2} + \\frac{\\sqrt{a^{2} - 2 a d + 4 b c + d^{2}}}{2}, \\  1, \\  \\left[ \\left[\\begin{matrix}- \\frac{b}{\\frac{a}{2} - \\frac{d}{2} - \\frac{\\sqrt{a^{2} - 2 a d + 4 b c + d^{2}}}{2}}\\\\1\\end{matrix}\\right]\\right]\\right)\\right]$"
      ],
      "text/plain": [
       "⎡⎛                                         ⎡⎡                -b               \n",
       "⎢⎜           _________________________     ⎢⎢─────────────────────────────────\n",
       "⎢⎜          ╱  2                    2      ⎢⎢           ______________________\n",
       "⎢⎜a   d   ╲╱  a  - 2⋅a⋅d + 4⋅b⋅c + d       ⎢⎢          ╱  2                   \n",
       "⎢⎜─ + ─ - ────────────────────────────, 1, ⎢⎢a   d   ╲╱  a  - 2⋅a⋅d + 4⋅b⋅c + \n",
       "⎢⎜2   2                2                   ⎢⎢─ - ─ + ─────────────────────────\n",
       "⎢⎜                                         ⎢⎢2   2                2           \n",
       "⎢⎜                                         ⎢⎢                                 \n",
       "⎣⎝                                         ⎣⎣                 1               \n",
       "\n",
       "   ⎤⎤⎞  ⎛                                         ⎡⎡                -b        \n",
       "───⎥⎥⎟  ⎜           _________________________     ⎢⎢──────────────────────────\n",
       "___⎥⎥⎟  ⎜          ╱  2                    2      ⎢⎢           _______________\n",
       " 2 ⎥⎥⎟  ⎜a   d   ╲╱  a  - 2⋅a⋅d + 4⋅b⋅c + d       ⎢⎢          ╱  2            \n",
       "d  ⎥⎥⎟, ⎜─ + ─ + ────────────────────────────, 1, ⎢⎢a   d   ╲╱  a  - 2⋅a⋅d + 4\n",
       "───⎥⎥⎟  ⎜2   2                2                   ⎢⎢─ - ─ - ──────────────────\n",
       "   ⎥⎥⎟  ⎜                                         ⎢⎢2   2                2    \n",
       "   ⎥⎥⎟  ⎜                                         ⎢⎢                          \n",
       "   ⎦⎦⎠  ⎝                                         ⎣⎣                 1        \n",
       "\n",
       "          ⎤⎤⎞⎤\n",
       "──────────⎥⎥⎟⎥\n",
       "__________⎥⎥⎟⎥\n",
       "        2 ⎥⎥⎟⎥\n",
       "⋅b⋅c + d  ⎥⎥⎟⎥\n",
       "──────────⎥⎥⎟⎥\n",
       "          ⎥⎥⎟⎥\n",
       "          ⎥⎥⎟⎥\n",
       "          ⎦⎦⎠⎦"
      ]
     },
     "execution_count": 9,
     "metadata": {},
     "output_type": "execute_result"
    }
   ],
   "source": [
    "# Ahora si quiero calcular los \"autovectores\", uso el método \".eigenvects ( )\"\n",
    "autovect = A.eigenvects ( )\n",
    "autovect"
   ]
  },
  {
   "cell_type": "code",
   "execution_count": 12,
   "metadata": {},
   "outputs": [
    {
     "data": {
      "text/latex": [
       "$\\displaystyle \\left[\\begin{matrix}\\frac{d}{a d - b c} & - \\frac{b}{a d - b c}\\\\- \\frac{c}{a d - b c} & \\frac{a}{a d - b c}\\end{matrix}\\right]$"
      ],
      "text/plain": [
       "⎡    d         -b    ⎤\n",
       "⎢─────────  ─────────⎥\n",
       "⎢a⋅d - b⋅c  a⋅d - b⋅c⎥\n",
       "⎢                    ⎥\n",
       "⎢   -c          a    ⎥\n",
       "⎢─────────  ─────────⎥\n",
       "⎣a⋅d - b⋅c  a⋅d - b⋅c⎦"
      ]
     },
     "execution_count": 12,
     "metadata": {},
     "output_type": "execute_result"
    }
   ],
   "source": [
    "# Si quisiera calcularle la matriz inversa, también podría hacerlo, usando el método \".inv ( )\"\n",
    "m_inv = A.inv ( )\n",
    "m_inv"
   ]
  },
  {
   "cell_type": "code",
   "execution_count": 13,
   "metadata": {},
   "outputs": [
    {
     "data": {
      "text/latex": [
       "$\\displaystyle \\left[\\begin{matrix}a^{2} + b c & a b + b d\\\\a c + c d & b c + d^{2}\\end{matrix}\\right]$"
      ],
      "text/plain": [
       "⎡ 2                  ⎤\n",
       "⎢a  + b⋅c   a⋅b + b⋅d⎥\n",
       "⎢                    ⎥\n",
       "⎢                  2 ⎥\n",
       "⎣a⋅c + c⋅d  b⋅c + d  ⎦"
      ]
     },
     "execution_count": 13,
     "metadata": {},
     "output_type": "execute_result"
    }
   ],
   "source": [
    "# También puedo elevar al cuadrado la matriz...\n",
    "A_cuadrado = A ** 2\n",
    "A_cuadrado"
   ]
  },
  {
   "cell_type": "markdown",
   "metadata": {},
   "source": []
  },
  {
   "cell_type": "markdown",
   "metadata": {},
   "source": [
    "###############################################################################################################################"
   ]
  },
  {
   "cell_type": "markdown",
   "metadata": {},
   "source": [
    "* ### **Plotting:**"
   ]
  },
  {
   "cell_type": "markdown",
   "metadata": {},
   "source": [
    "#### **Algunas formas de representar gráficas en Sympy usando la función \"plot ( )\".**"
   ]
  },
  {
   "cell_type": "code",
   "execution_count": 16,
   "metadata": {},
   "outputs": [
    {
     "data": {
      "image/png": "[encoded data removed]",
      "text/latex": [
       "$\\displaystyle 3 x^{2} - 5$"
      ],
      "text/plain": [
       "   2    \n",
       "3⋅x  - 5"
      ]
     },
     "execution_count": 16,
     "metadata": {},
     "output_type": "execute_result"
    }
   ],
   "source": [
    "# Creo la expresión a representar gráficamente:\n",
    "expres = 3*x**2 - 5\n",
    "expres"
   ]
  },
  {
   "cell_type": "code",
   "execution_count": 19,
   "metadata": {},
   "outputs": [
    {
     "data": {
      "text/plain": [
       "<sympy.plotting.plot.Plot at 0x24dda3e4a88>"
      ]
     },
     "execution_count": 19,
     "metadata": {},
     "output_type": "execute_result"
    }
   ],
   "source": [
    "# Realizo la Gráfica usando la función 'plot ( )' pasándole como argumentos la expresión y el rango en el cual\n",
    "# quiero representarla.\n",
    "plot (expres, (x, -3, 3))"
   ]
  },
  {
   "cell_type": "markdown",
   "metadata": {},
   "source": [
    "*Obtenemos la Siguiente Figura:*"
   ]
  },
  {
   "cell_type": "markdown",
   "metadata": {},
   "source": [
    "<img src=\"./figure1_sympy.png\" width=\"500\">"
   ]
  },
  {
   "cell_type": "code",
   "execution_count": 28,
   "metadata": {},
   "outputs": [
    {
     "data": {
      "image/png": "[encoded data removed]",
      "text/latex": [
       "$\\displaystyle 4 x + 6$"
      ],
      "text/plain": [
       "4⋅x + 6"
      ]
     },
     "execution_count": 28,
     "metadata": {},
     "output_type": "execute_result"
    }
   ],
   "source": [
    "# También puedo Representar varias expresiones en un mismo gráfico.\n",
    "expres2 = 4*x + 6\n",
    "expres2"
   ]
  },
  {
   "cell_type": "code",
   "execution_count": 30,
   "metadata": {},
   "outputs": [
    {
     "data": {
      "text/plain": [
       "<sympy.plotting.plot.Plot at 0x24dddcc48c8>"
      ]
     },
     "execution_count": 30,
     "metadata": {},
     "output_type": "execute_result"
    }
   ],
   "source": [
    "# Grafico las 2 Expresiones:\n",
    "plot (expres, expres2, (x, -3, 3))"
   ]
  },
  {
   "cell_type": "markdown",
   "metadata": {},
   "source": [
    "*Obtenemos la Siguiente Figura:*"
   ]
  },
  {
   "cell_type": "markdown",
   "metadata": {},
   "source": [
    "<img src=\"./figure2_sympy.png\" width=\"500\">"
   ]
  },
  {
   "cell_type": "markdown",
   "metadata": {},
   "source": []
  },
  {
   "cell_type": "markdown",
   "metadata": {},
   "source": [
    "###############################################################################################################################"
   ]
  },
  {
   "cell_type": "markdown",
   "metadata": {},
   "source": [
    "* ### **Lambdify:**"
   ]
  },
  {
   "cell_type": "markdown",
   "metadata": {},
   "source": [
    "#### **Utilizamos la función \"lambdify ( )\" para crear funciones numéricas a partir de expresiones de Sympy. Esto quiere decir que pueda evaluar una expresión para varios valores**"
   ]
  },
  {
   "cell_type": "code",
   "execution_count": 31,
   "metadata": {},
   "outputs": [
    {
     "data": {
      "image/png": "[encoded data removed]",
      "text/latex": [
       "$\\displaystyle x^{3} + \\sin^{2}{\\left(x \\right)}$"
      ],
      "text/plain": [
       " 3      2   \n",
       "x  + sin (x)"
      ]
     },
     "execution_count": 31,
     "metadata": {},
     "output_type": "execute_result"
    }
   ],
   "source": [
    "## Creo una expresión:\n",
    "expres = x**3 + sin(x)**2\n",
    "expres"
   ]
  },
  {
   "cell_type": "code",
   "execution_count": 35,
   "metadata": {},
   "outputs": [],
   "source": [
    "# Importo el Módulo Numpy...\n",
    "import numpy as np\n",
    "\n",
    "# Creo un array de valores:\n",
    "vals = np.linspace (0.1, 1.0, 10)"
   ]
  },
  {
   "cell_type": "code",
   "execution_count": 39,
   "metadata": {},
   "outputs": [
    {
     "data": {
      "text/plain": [
       "<function numpy._lambdifygenerated(x)>"
      ]
     },
     "execution_count": 39,
     "metadata": {},
     "output_type": "execute_result"
    }
   ],
   "source": [
    "# Ahora para evaluar varios Valores para dichas expresión uso la función 'lambdify ( )' cuyos argumentos a pasarle son:\n",
    "# la variable simbólica, la expresión y finalmente el módulo que voy a utilizar para evaluar dicha expresión. En este\n",
    "# caso voy a utilizar el módulo numpy.\n",
    "# Me va a crear una función a la cual luego voy a tener que especificarle los valores que quiero calcular.\n",
    "expres_numer = lambdify (x, expres, np)\n",
    "expres_numer"
   ]
  },
  {
   "cell_type": "code",
   "execution_count": 42,
   "metadata": {},
   "outputs": [
    {
     "data": {
      "text/plain": [
       "array([0.01096671, 0.0474695 , 0.11433219, 0.21564665, 0.35484885,\n",
       "       0.53482112, 0.75801643, 1.02659976, 1.34260105, 1.70807342])"
      ]
     },
     "execution_count": 42,
     "metadata": {},
     "output_type": "execute_result"
    }
   ],
   "source": [
    "# Ahora la evalúo para los valores especificados...\n",
    "results = expres_numer (vals)\n",
    "results"
   ]
  }
 ],
 "metadata": {
  "kernelspec": {
   "display_name": "Python 3",
   "language": "python",
   "name": "python3"
  },
  "language_info": {
   "codemirror_mode": {
    "name": "ipython",
    "version": 3
   },
   "file_extension": ".py",
   "mimetype": "text/x-python",
   "name": "python",
   "nbconvert_exporter": "python",
   "pygments_lexer": "ipython3",
   "version": "3.7.7"
  },
  "latex_envs": {
   "LaTeX_envs_menu_present": true,
   "autoclose": false,
   "autocomplete": true,
   "bibliofile": "biblio.bib",
   "cite_by": "apalike",
   "current_citInitial": 1,
   "eqLabelWithNumbers": true,
   "eqNumInitial": 1,
   "hotkeys": {
    "equation": "Ctrl-E",
    "itemize": "Ctrl-I"
   },
   "labels_anchors": false,
   "latex_user_defs": false,
   "report_style_numbering": false,
   "user_envs_cfg": true
  }
 },
 "nbformat": 4,
 "nbformat_minor": 4
}
