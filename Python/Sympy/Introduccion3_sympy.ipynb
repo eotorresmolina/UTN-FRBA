{
 "cells": [
  {
   "cell_type": "markdown",
   "metadata": {},
   "source": [
    "#### ***Torres Molina Emmanuel***"
   ]
  },
  {
   "cell_type": "markdown",
   "metadata": {},
   "source": [
    "# **Tercera Introducción al Lenguaje Simbólico usando el paquete Sympy que ofrece Python**"
   ]
  },
  {
   "cell_type": "markdown",
   "metadata": {},
   "source": [
    "###############################################################################################################################"
   ]
  },
  {
   "cell_type": "code",
   "execution_count": 2,
   "metadata": {},
   "outputs": [
    {
     "name": "stdout",
     "output_type": "stream",
     "text": [
      "IPython console for SymPy 1.5.1 (Python 3.7.7-64-bit) (ground types: python)\n",
      "\n",
      "These commands were executed:\n",
      ">>> from __future__ import division\n",
      ">>> from sympy import *\n",
      ">>> x, y, z, t = symbols('x y z t')\n",
      ">>> k, m, n = symbols('k m n', integer=True)\n",
      ">>> f, g, h = symbols('f g h', cls=Function)\n",
      ">>> init_printing()\n",
      "\n",
      "Documentation can be found at https://docs.sympy.org/1.5.1/\n",
      "\n"
     ]
    }
   ],
   "source": [
    "# Importo las librerías a Utilizar en este Notebook:\n",
    "from sympy import init_session\n",
    "init_session (use_latex = True)\n",
    "from sympy import *"
   ]
  },
  {
   "cell_type": "markdown",
   "metadata": {},
   "source": [
    "###############################################################################################################################"
   ]
  },
  {
   "cell_type": "markdown",
   "metadata": {},
   "source": [
    "### **Límites, Derivadas e Integrales:**"
   ]
  },
  {
   "cell_type": "markdown",
   "metadata": {},
   "source": []
  },
  {
   "cell_type": "markdown",
   "metadata": {},
   "source": [
    "* ######  Límites:"
   ]
  },
  {
   "cell_type": "markdown",
   "metadata": {},
   "source": [
    "##### *Se puede Calcular el límite de una expresión usando la función \"limit ( )\", y si quiero dejarla expresada uso \"Limit ( )\"*\n"
   ]
  },
  {
   "cell_type": "code",
   "execution_count": 4,
   "metadata": {},
   "outputs": [
    {
     "data": {
      "image/png": "[encoded data removed]",
      "text/latex": [
       "$\\displaystyle \\frac{3 x^{3}}{\\sin{\\left(x^{3} \\right)}}$"
      ],
      "text/plain": [
       "     3 \n",
       "  3⋅x  \n",
       "───────\n",
       "   ⎛ 3⎞\n",
       "sin⎝x ⎠"
      ]
     },
     "execution_count": 4,
     "metadata": {},
     "output_type": "execute_result"
    }
   ],
   "source": [
    "# Creo una expresión a la cual le voy a calcular el límite:\n",
    "expr = 3*(x**3) / (sin(x**3))\n",
    "expr"
   ]
  },
  {
   "cell_type": "code",
   "execution_count": 5,
   "metadata": {},
   "outputs": [
    {
     "data": {
      "image/png": "[encoded data removed]",
      "text/latex": [
       "$\\displaystyle \\lim_{x \\to 0^+}\\left(\\frac{3 x^{3}}{\\sin{\\left(x^{3} \\right)}}\\right)$"
      ],
      "text/plain": [
       "     ⎛     3 ⎞\n",
       "     ⎜  3⋅x  ⎟\n",
       " lim ⎜───────⎟\n",
       "x─→0⁺⎜   ⎛ 3⎞⎟\n",
       "     ⎝sin⎝x ⎠⎠"
      ]
     },
     "execution_count": 5,
     "metadata": {},
     "output_type": "execute_result"
    }
   ],
   "source": [
    "# Ahora dejo expresado el límite teniendo a 0 de la expresión:\n",
    "expr_lim = Limit(expr, x, 0)\n",
    "expr_lim"
   ]
  },
  {
   "cell_type": "code",
   "execution_count": 6,
   "metadata": {},
   "outputs": [
    {
     "data": {
      "image/png": "[encoded data removed]",
      "text/latex": [
       "$\\displaystyle 3$"
      ],
      "text/plain": [
       "3"
      ]
     },
     "execution_count": 6,
     "metadata": {},
     "output_type": "execute_result"
    }
   ],
   "source": [
    "# Ahora si calculamos el limite teniendo a 0 de la expresión:\n",
    "lim = limit (expr, x, 0)\n",
    "lim"
   ]
  },
  {
   "cell_type": "code",
   "execution_count": 8,
   "metadata": {},
   "outputs": [
    {
     "data": {
      "image/png": "[encoded data removed]",
      "text/latex": [
       "$\\displaystyle \\frac{4 x^{3} + 3}{2 x^{2}}$"
      ],
      "text/plain": [
       "   3    \n",
       "4⋅x  + 3\n",
       "────────\n",
       "     2  \n",
       "  2⋅x   "
      ]
     },
     "execution_count": 8,
     "metadata": {},
     "output_type": "execute_result"
    }
   ],
   "source": [
    "# Declaro una expresión a la cual le voy a calcular el límite teniendo a infinito:\n",
    "expr = (4*x**3 + 3 ) / (2*x**2)\n",
    "expr"
   ]
  },
  {
   "cell_type": "code",
   "execution_count": 10,
   "metadata": {},
   "outputs": [
    {
     "data": {
      "image/png": "[encoded data removed]",
      "text/latex": [
       "$\\displaystyle \\lim_{x \\to \\infty}\\left(\\frac{4 x^{3} + 3}{2 x^{2}}\\right)$"
      ],
      "text/plain": [
       "    ⎛   3    ⎞\n",
       "    ⎜4⋅x  + 3⎟\n",
       "lim ⎜────────⎟\n",
       "x─→∞⎜     2  ⎟\n",
       "    ⎝  2⋅x   ⎠"
      ]
     },
     "execution_count": 10,
     "metadata": {},
     "output_type": "execute_result"
    }
   ],
   "source": [
    "# Para denotar infinito se usa en Sympy 'oo'\n",
    "lim_inf = Limit (expr, x, oo)\n",
    "lim_inf"
   ]
  },
  {
   "cell_type": "code",
   "execution_count": 12,
   "metadata": {},
   "outputs": [
    {
     "data": {
      "image/png": "[encoded data removed]",
      "text/latex": [
       "$\\displaystyle \\infty$"
      ],
      "text/plain": [
       "∞"
      ]
     },
     "execution_count": 12,
     "metadata": {},
     "output_type": "execute_result"
    }
   ],
   "source": [
    "# Si lo calculamos...\n",
    "result = limit (expr, x, oo)\n",
    "result"
   ]
  },
  {
   "cell_type": "markdown",
   "metadata": {},
   "source": []
  },
  {
   "cell_type": "markdown",
   "metadata": {},
   "source": [
    "###############################################################################################################################"
   ]
  },
  {
   "cell_type": "markdown",
   "metadata": {},
   "source": [
    "* ######  Derivadas:"
   ]
  },
  {
   "cell_type": "markdown",
   "metadata": {},
   "source": [
    "\n",
    "##### *Se puede Derivar una expresión usando el método \".diff ( )\", o la función \"diff ( )\":*"
   ]
  },
  {
   "cell_type": "code",
   "execution_count": 3,
   "metadata": {},
   "outputs": [
    {
     "data": {
      "image/png": "[encoded data removed]",
      "text/latex": [
       "$\\displaystyle \\cos{\\left(x \\right)}$"
      ],
      "text/plain": [
       "cos(x)"
      ]
     },
     "execution_count": 3,
     "metadata": {},
     "output_type": "execute_result"
    }
   ],
   "source": [
    "# Creamos una expresión:\n",
    "expres = cos (x)\n",
    "expres"
   ]
  },
  {
   "cell_type": "code",
   "execution_count": 5,
   "metadata": {},
   "outputs": [
    {
     "data": {
      "image/png": "[encoded data removed]",
      "text/latex": [
       "$\\displaystyle - \\sin{\\left(x \\right)}$"
      ],
      "text/plain": [
       "-sin(x)"
      ]
     },
     "execution_count": 5,
     "metadata": {},
     "output_type": "execute_result"
    }
   ],
   "source": [
    "# Ahora vamos a obtener la derivada primera de dicha expresión.\n",
    "# Atención! Al método \".diff ( )\" hay que indicarle al hacer la derivada respecto de que variable, luego se\n",
    "# lo pasamos como argumento.\n",
    "expres.diff ( x )"
   ]
  },
  {
   "cell_type": "code",
   "execution_count": 6,
   "metadata": {},
   "outputs": [
    {
     "data": {
      "image/png": "[encoded data removed]",
      "text/latex": [
       "$\\displaystyle - \\sin{\\left(x \\right)}$"
      ],
      "text/plain": [
       "-sin(x)"
      ]
     },
     "execution_count": 6,
     "metadata": {},
     "output_type": "execute_result"
    }
   ],
   "source": [
    "# También realizandolo de esta manera llegamos al mismo resultado:\n",
    "# En este caso le pasamos la expresión a derivar y la variable con respecto a la cual voy a derivar!\n",
    "deriv_expres = diff ( expres, x )\n",
    "deriv_expres"
   ]
  },
  {
   "cell_type": "markdown",
   "metadata": {},
   "source": [
    "##### *Si quisiera hacer ahora la derivada segunda, tercera o n-sima de una expresión también se puede:*"
   ]
  },
  {
   "cell_type": "code",
   "execution_count": 18,
   "metadata": {},
   "outputs": [
    {
     "data": {
      "image/png": "[encoded data removed]",
      "text/latex": [
       "$\\displaystyle 3 x^{3}$"
      ],
      "text/plain": [
       "   3\n",
       "3⋅x "
      ]
     },
     "execution_count": 18,
     "metadata": {},
     "output_type": "execute_result"
    }
   ],
   "source": [
    "# Utilizamos la función o método \".diff ( )\"\n",
    "\n",
    "# Creamos una nueva expresión:\n",
    "expres = 3*x**3\n",
    "expres"
   ]
  },
  {
   "cell_type": "code",
   "execution_count": 19,
   "metadata": {},
   "outputs": [
    {
     "data": {
      "image/png": "[encoded data removed]",
      "text/latex": [
       "$\\displaystyle \\left( 9 x^{2}, \\  18 x, \\  18\\right)$"
      ],
      "text/plain": [
       "⎛   2          ⎞\n",
       "⎝9⋅x , 18⋅x, 18⎠"
      ]
     },
     "execution_count": 19,
     "metadata": {},
     "output_type": "execute_result"
    }
   ],
   "source": [
    "# Derivada primera, segunda, tercera:\n",
    "d1 = diff (expres, x)\n",
    "d2 = diff (expres, x, x)\n",
    "d3 = diff (expres, x, x, x)\n",
    "\n",
    "d1, d2, d3"
   ]
  },
  {
   "cell_type": "code",
   "execution_count": 20,
   "metadata": {},
   "outputs": [
    {
     "data": {
      "image/png": "[encoded data removed]",
      "text/latex": [
       "$\\displaystyle \\left( 9 x^{2}, \\  18 x, \\  18\\right)$"
      ],
      "text/plain": [
       "⎛   2          ⎞\n",
       "⎝9⋅x , 18⋅x, 18⎠"
      ]
     },
     "execution_count": 20,
     "metadata": {},
     "output_type": "execute_result"
    }
   ],
   "source": [
    "# Podemos realizar lo mismo de manera \"más linda\":\n",
    "d1 = diff (expres, x, 1)\n",
    "d2 = diff (expres, x, 2)\n",
    "d3 = diff (expres, x, 3)\n",
    "\n",
    "d1, d2, d3"
   ]
  },
  {
   "cell_type": "markdown",
   "metadata": {},
   "source": [
    "##### *Si ahora quisieramos derivar una expresión de 2 variables tambíen podríamos hacerlo:*"
   ]
  },
  {
   "cell_type": "code",
   "execution_count": 24,
   "metadata": {},
   "outputs": [
    {
     "data": {
      "image/png": "[encoded data removed]",
      "text/latex": [
       "$\\displaystyle 4 x y + \\frac{y}{3 x y + 2 x}$"
      ],
      "text/plain": [
       "             y     \n",
       "4⋅x⋅y + ───────────\n",
       "        3⋅x⋅y + 2⋅x"
      ]
     },
     "execution_count": 24,
     "metadata": {},
     "output_type": "execute_result"
    }
   ],
   "source": [
    "# Creamos otra expresión pero esta vez de 2 variables!!\n",
    "expres = 4*x*y + ( y / (2*x + 3*x*y) )\n",
    "expres"
   ]
  },
  {
   "cell_type": "code",
   "execution_count": 25,
   "metadata": {},
   "outputs": [
    {
     "data": {
      "image/png": "[encoded data removed]",
      "text/latex": [
       "$\\displaystyle 4 + \\frac{3 y}{x^{2} \\left(3 y + 2\\right)^{2}} - \\frac{1}{x^{2} \\left(3 y + 2\\right)}$"
      ],
      "text/plain": [
       "         3⋅y             1      \n",
       "4 + ───────────── - ────────────\n",
       "     2          2    2          \n",
       "    x ⋅(3⋅y + 2)    x ⋅(3⋅y + 2)"
      ]
     },
     "execution_count": 25,
     "metadata": {},
     "output_type": "execute_result"
    }
   ],
   "source": [
    "# Ahora derivamos usando la función diff ( ):\n",
    "deriv_expres = diff (expres, x, y)\n",
    "deriv_expres"
   ]
  },
  {
   "cell_type": "code",
   "execution_count": 28,
   "metadata": {},
   "outputs": [
    {
     "data": {
      "image/png": "[encoded data removed]",
      "text/latex": [
       "$\\displaystyle \\frac{108 \\left(- \\frac{3 y}{3 y + 2} + 1\\right)}{x^{3} \\left(3 y + 2\\right)^{3}}$"
      ],
      "text/plain": [
       "    ⎛    3⋅y      ⎞\n",
       "108⋅⎜- ─────── + 1⎟\n",
       "    ⎝  3⋅y + 2    ⎠\n",
       "───────────────────\n",
       "    3          3   \n",
       "   x ⋅(3⋅y + 2)    "
      ]
     },
     "execution_count": 28,
     "metadata": {},
     "output_type": "execute_result"
    }
   ],
   "source": [
    "# Incluso se puede realizar varias derivadas de una expresión de \"n\" variables:\n",
    "deriv_parc = diff (expres, x, 2, y, 3)\n",
    "deriv_parc"
   ]
  },
  {
   "cell_type": "markdown",
   "metadata": {},
   "source": [
    "##### *Si ahora quisiera dejar expresada la derivada respecto a una variable lo podría hacer usando la función \"Derivative ( )\":*"
   ]
  },
  {
   "cell_type": "code",
   "execution_count": 29,
   "metadata": {},
   "outputs": [
    {
     "data": {
      "image/png": "[encoded data removed]",
      "text/latex": [
       "$\\displaystyle 4 x y + \\frac{y}{3 x y + 2 x}$"
      ],
      "text/plain": [
       "             y     \n",
       "4⋅x⋅y + ───────────\n",
       "        3⋅x⋅y + 2⋅x"
      ]
     },
     "execution_count": 29,
     "metadata": {},
     "output_type": "execute_result"
    }
   ],
   "source": [
    "# Tenemos la expresión anterior:\n",
    "expres"
   ]
  },
  {
   "cell_type": "code",
   "execution_count": 32,
   "metadata": {},
   "outputs": [
    {
     "data": {
      "image/png": "[encoded data removed]",
      "text/latex": [
       "$\\displaystyle \\frac{\\partial}{\\partial x} \\left(4 x y + \\frac{y}{3 x y + 2 x}\\right)$"
      ],
      "text/plain": [
       "∂ ⎛             y     ⎞\n",
       "──⎜4⋅x⋅y + ───────────⎟\n",
       "∂x⎝        3⋅x⋅y + 2⋅x⎠"
      ]
     },
     "execution_count": 32,
     "metadata": {},
     "output_type": "execute_result"
    }
   ],
   "source": [
    "# Dejamos expresada la derivada parcial respecto a \"x\":\n",
    "deriv_x = Derivative (expres, x)\n",
    "deriv_x"
   ]
  },
  {
   "cell_type": "code",
   "execution_count": 33,
   "metadata": {},
   "outputs": [
    {
     "data": {
      "image/png": "[encoded data removed]",
      "text/latex": [
       "$\\displaystyle \\frac{\\partial}{\\partial y} \\left(4 x y + \\frac{y}{3 x y + 2 x}\\right)$"
      ],
      "text/plain": [
       "∂ ⎛             y     ⎞\n",
       "──⎜4⋅x⋅y + ───────────⎟\n",
       "∂y⎝        3⋅x⋅y + 2⋅x⎠"
      ]
     },
     "execution_count": 33,
     "metadata": {},
     "output_type": "execute_result"
    }
   ],
   "source": [
    "# Ahora la derivada parcial respecto a \"y\":\n",
    "deriv_y = Derivative (expres, y)\n",
    "deriv_y"
   ]
  },
  {
   "cell_type": "markdown",
   "metadata": {},
   "source": [
    "#### *Si quisiera hacer la regla de la cadena, es decir, derivar una función compuesta, lo hago de la siguiente manera:*"
   ]
  },
  {
   "cell_type": "code",
   "execution_count": 35,
   "metadata": {},
   "outputs": [
    {
     "data": {
      "image/png": "[encoded data removed]",
      "text/latex": [
       "$\\displaystyle F{\\left(x \\right)}$"
      ],
      "text/plain": [
       "F(x)"
      ]
     },
     "execution_count": 35,
     "metadata": {},
     "output_type": "execute_result"
    }
   ],
   "source": [
    "# Creamos una función con \"Function ( )\":\n",
    "F = Function ('F')    # función Simbólica llamada 'F'\n",
    "\n",
    "# Ahora hago que mi función F tenga como variable independiente x:\n",
    "F(x)"
   ]
  },
  {
   "cell_type": "code",
   "execution_count": 36,
   "metadata": {},
   "outputs": [
    {
     "data": {
      "image/png": "[encoded data removed]",
      "text/latex": [
       "$\\displaystyle G{\\left(x \\right)}$"
      ],
      "text/plain": [
       "G(x)"
      ]
     },
     "execution_count": 36,
     "metadata": {},
     "output_type": "execute_result"
    }
   ],
   "source": [
    "# Creo ahora una función G:\n",
    "G = Function ('G')\n",
    "G (x)"
   ]
  },
  {
   "cell_type": "code",
   "execution_count": 38,
   "metadata": {},
   "outputs": [
    {
     "data": {
      "image/png": "[encoded data removed]",
      "text/latex": [
       "$\\displaystyle F{\\left(G{\\left(x \\right)} \\right)}$"
      ],
      "text/plain": [
       "F(G(x))"
      ]
     },
     "execution_count": 38,
     "metadata": {},
     "output_type": "execute_result"
    }
   ],
   "source": [
    "# Ahora hago mi función Compuesta: F ( G (x) )\n",
    "f_comp = F(G(x))\n",
    "f_comp"
   ]
  },
  {
   "cell_type": "code",
   "execution_count": 39,
   "metadata": {},
   "outputs": [
    {
     "data": {
      "image/png": "[encoded data removed]",
      "text/latex": [
       "$\\displaystyle \\frac{d}{d x} F{\\left(G{\\left(x \\right)} \\right)}$"
      ],
      "text/plain": [
       "d          \n",
       "──(F(G(x)))\n",
       "dx         "
      ]
     },
     "execution_count": 39,
     "metadata": {},
     "output_type": "execute_result"
    }
   ],
   "source": [
    "# Expreso la derivada respecto a 'x':\n",
    "Derivative (f_comp, x)"
   ]
  },
  {
   "cell_type": "code",
   "execution_count": 40,
   "metadata": {},
   "outputs": [
    {
     "data": {
      "image/png": "[encoded data removed]",
      "text/latex": [
       "$\\displaystyle \\frac{d}{d G{\\left(x \\right)}} F{\\left(G{\\left(x \\right)} \\right)} \\frac{d}{d x} G{\\left(x \\right)}$"
      ],
      "text/plain": [
       "  d            d       \n",
       "─────(F(G(x)))⋅──(G(x))\n",
       "dG(x)          dx      "
      ]
     },
     "execution_count": 40,
     "metadata": {},
     "output_type": "execute_result"
    }
   ],
   "source": [
    "# Ahora Realizo la Derivada de esta función Compuesta:\n",
    "deriv_comp = diff (f_comp, x)\n",
    "deriv_comp"
   ]
  },
  {
   "cell_type": "code",
   "execution_count": 42,
   "metadata": {},
   "outputs": [
    {
     "data": {
      "image/png": "[encoded data removed]",
      "text/latex": [
       "$\\displaystyle \\frac{d}{d G{\\left(x \\right)}} F{\\left(G{\\left(x \\right)} \\right)} \\frac{d}{d x} G{\\left(x \\right)}$"
      ],
      "text/plain": [
       "  d            d       \n",
       "─────(F(G(x)))⋅──(G(x))\n",
       "dG(x)          dx      "
      ]
     },
     "execution_count": 42,
     "metadata": {},
     "output_type": "execute_result"
    }
   ],
   "source": [
    "# Como siempre, así también llegamos al mismo resultado:\n",
    "F(G(x)).diff(x)"
   ]
  },
  {
   "cell_type": "code",
   "execution_count": 52,
   "metadata": {},
   "outputs": [
    {
     "data": {
      "image/png": "[encoded data removed]",
      "text/latex": [
       "$\\displaystyle 3 x^{2} - 14 x$"
      ],
      "text/plain": [
       "   2       \n",
       "3⋅x  - 14⋅x"
      ]
     },
     "execution_count": 52,
     "metadata": {},
     "output_type": "execute_result"
    }
   ],
   "source": [
    "# Si ahora le damos expresiones a las funciones creadas:\n",
    "G = 3*x**2 - 14*x\n",
    "G"
   ]
  },
  {
   "cell_type": "code",
   "execution_count": 53,
   "metadata": {},
   "outputs": [
    {
     "data": {
      "image/png": "[encoded data removed]",
      "text/latex": [
       "$\\displaystyle \\frac{1}{3 x^{2} - 14 x}$"
      ],
      "text/plain": [
       "     1     \n",
       "───────────\n",
       "   2       \n",
       "3⋅x  - 14⋅x"
      ]
     },
     "execution_count": 53,
     "metadata": {},
     "output_type": "execute_result"
    }
   ],
   "source": [
    "F = 1 / G\n",
    "F"
   ]
  },
  {
   "cell_type": "code",
   "execution_count": 56,
   "metadata": {},
   "outputs": [
    {
     "data": {
      "image/png": "[encoded data removed]",
      "text/latex": [
       "$\\displaystyle \\frac{14 - 6 x}{\\left(3 x^{2} - 14 x\\right)^{2}}$"
      ],
      "text/plain": [
       "   14 - 6⋅x   \n",
       "──────────────\n",
       "             2\n",
       "⎛   2       ⎞ \n",
       "⎝3⋅x  - 14⋅x⎠ "
      ]
     },
     "execution_count": 56,
     "metadata": {},
     "output_type": "execute_result"
    }
   ],
   "source": [
    "# Realizo la Derivada de la función F que contiene a G:\n",
    "f_deriv = diff (F, x)\n",
    "f_deriv"
   ]
  },
  {
   "cell_type": "markdown",
   "metadata": {},
   "source": []
  },
  {
   "cell_type": "markdown",
   "metadata": {},
   "source": [
    "###############################################################################################################################"
   ]
  },
  {
   "cell_type": "markdown",
   "metadata": {},
   "source": [
    "* ######  Integrales:"
   ]
  },
  {
   "cell_type": "markdown",
   "metadata": {},
   "source": [
    "##### *Se puede Integrar una expresión usando el método \".integrate ( )\", o la función \"integrate ( )\":*"
   ]
  },
  {
   "cell_type": "code",
   "execution_count": 57,
   "metadata": {},
   "outputs": [
    {
     "data": {
      "image/png": "[encoded data removed]",
      "text/latex": [
       "$\\displaystyle \\cos^{3}{\\left(x \\right)}$"
      ],
      "text/plain": [
       "   3   \n",
       "cos (x)"
      ]
     },
     "execution_count": 57,
     "metadata": {},
     "output_type": "execute_result"
    }
   ],
   "source": [
    "# Declaro una expresión a Integrar:\n",
    "expr = cos (x)**3\n",
    "expr"
   ]
  },
  {
   "cell_type": "code",
   "execution_count": 59,
   "metadata": {},
   "outputs": [
    {
     "data": {
      "image/png": "[encoded data removed]",
      "text/latex": [
       "$\\displaystyle - \\frac{\\sin^{3}{\\left(x \\right)}}{3} + \\sin{\\left(x \\right)}$"
      ],
      "text/plain": [
       "     3            \n",
       "  sin (x)         \n",
       "- ─────── + sin(x)\n",
       "     3            "
      ]
     },
     "execution_count": 59,
     "metadata": {},
     "output_type": "execute_result"
    }
   ],
   "source": [
    "# Realizo la Integral de dicha expresión usando la función \"integrate ( )\":\n",
    "# En este caso le paso la expresión a integrar y la variable de integración.\n",
    "# Pasandole estos 2 argumentos obtengo la integral indefinida, es decir. la primitiva de la función.\n",
    "integr = integrate (expr, x)\n",
    "integr"
   ]
  },
  {
   "cell_type": "code",
   "execution_count": 62,
   "metadata": {},
   "outputs": [
    {
     "data": {
      "image/png": "[encoded data removed]",
      "text/latex": [
       "$\\displaystyle - \\frac{\\sin^{3}{\\left(1 \\right)}}{3} + \\sin{\\left(1 \\right)}$"
      ],
      "text/plain": [
       "     3            \n",
       "  sin (1)         \n",
       "- ─────── + sin(1)\n",
       "     3            "
      ]
     },
     "execution_count": 62,
     "metadata": {},
     "output_type": "execute_result"
    }
   ],
   "source": [
    "# Si ahora le paso además los intervalos obtengo:\n",
    "integr = integrate(expr, (x, 0, 1))\n",
    "integr"
   ]
  },
  {
   "cell_type": "code",
   "execution_count": 64,
   "metadata": {},
   "outputs": [
    {
     "data": {
      "image/png": "[encoded data removed]",
      "text/latex": [
       "$\\displaystyle 2 x^{2} + 3 y^{3}$"
      ],
      "text/plain": [
       "   2      3\n",
       "2⋅x  + 3⋅y "
      ]
     },
     "execution_count": 64,
     "metadata": {},
     "output_type": "execute_result"
    }
   ],
   "source": [
    "# Si ahora tengo una expresión de varias variables, tengo que especificarle con respecto a que variable voy a integrar:\n",
    "expres = 2*x**2 + 3*y**3\n",
    "expres"
   ]
  },
  {
   "cell_type": "code",
   "execution_count": 65,
   "metadata": {},
   "outputs": [
    {
     "data": {
      "image/png": "[encoded data removed]",
      "text/latex": [
       "$\\displaystyle 2 x^{2} y + \\frac{3 y^{4}}{4}$"
      ],
      "text/plain": [
       "            4\n",
       "   2     3⋅y \n",
       "2⋅x ⋅y + ────\n",
       "          4  "
      ]
     },
     "execution_count": 65,
     "metadata": {},
     "output_type": "execute_result"
    }
   ],
   "source": [
    "# Realizo la Integración, en este caso, con respecto a la variable 'y':\n",
    "int_y = integrate(expres, y)\n",
    "int_y"
   ]
  },
  {
   "cell_type": "code",
   "execution_count": 67,
   "metadata": {},
   "outputs": [
    {
     "data": {
      "image/png": "[encoded data removed]",
      "text/latex": [
       "$\\displaystyle \\frac{2 x^{3}}{3} + 3 x y^{3}$"
      ],
      "text/plain": [
       "   3         \n",
       "2⋅x         3\n",
       "──── + 3⋅x⋅y \n",
       " 3           "
      ]
     },
     "execution_count": 67,
     "metadata": {},
     "output_type": "execute_result"
    }
   ],
   "source": [
    "# Si ahora Integro respecto a 'x'...\n",
    "int_x = integrate (expres, x)\n",
    "int_x"
   ]
  }
 ],
 "metadata": {
  "kernelspec": {
   "display_name": "Python 3",
   "language": "python",
   "name": "python3"
  },
  "language_info": {
   "codemirror_mode": {
    "name": "ipython",
    "version": 3
   },
   "file_extension": ".py",
   "mimetype": "text/x-python",
   "name": "python",
   "nbconvert_exporter": "python",
   "pygments_lexer": "ipython3",
   "version": "3.7.7"
  },
  "latex_envs": {
   "LaTeX_envs_menu_present": true,
   "autoclose": false,
   "autocomplete": true,
   "bibliofile": "biblio.bib",
   "cite_by": "apalike",
   "current_citInitial": 1,
   "eqLabelWithNumbers": true,
   "eqNumInitial": 1,
   "hotkeys": {
    "equation": "Ctrl-E",
    "itemize": "Ctrl-I"
   },
   "labels_anchors": false,
   "latex_user_defs": false,
   "report_style_numbering": false,
   "user_envs_cfg": true
  }
 },
 "nbformat": 4,
 "nbformat_minor": 4
}
