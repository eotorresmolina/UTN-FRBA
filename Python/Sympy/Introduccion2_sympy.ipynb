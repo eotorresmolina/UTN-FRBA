{
 "cells": [
  {
   "cell_type": "markdown",
   "metadata": {},
   "source": [
    "#### ***Torres Molina Emmanuel***"
   ]
  },
  {
   "cell_type": "markdown",
   "metadata": {},
   "source": []
  },
  {
   "cell_type": "markdown",
   "metadata": {},
   "source": [
    "# **Segunda Introducción al Lenguaje Simbólico usando el paquete Sympy que ofrece Python**"
   ]
  },
  {
   "cell_type": "markdown",
   "metadata": {},
   "source": []
  },
  {
   "cell_type": "markdown",
   "metadata": {},
   "source": [
    "###############################################################################################################################"
   ]
  },
  {
   "cell_type": "code",
   "execution_count": 5,
   "metadata": {},
   "outputs": [
    {
     "name": "stdout",
     "output_type": "stream",
     "text": [
      "IPython console for SymPy 1.5.1 (Python 3.7.7-64-bit) (ground types: python)\n",
      "\n",
      "These commands were executed:\n",
      ">>> from __future__ import division\n",
      ">>> from sympy import *\n",
      ">>> x, y, z, t = symbols('x y z t')\n",
      ">>> k, m, n = symbols('k m n', integer=True)\n",
      ">>> f, g, h = symbols('f g h', cls=Function)\n",
      ">>> init_printing()\n",
      "\n",
      "Documentation can be found at https://docs.sympy.org/1.5.1/\n",
      "\n"
     ]
    }
   ],
   "source": [
    "# Importo las Librerías y Paquetes a Utilizar:\n",
    "from sympy import init_session\n",
    "init_session (use_latex = True)\n",
    "from sympy import *"
   ]
  },
  {
   "cell_type": "markdown",
   "metadata": {},
   "source": [
    "###############################################################################################################################"
   ]
  },
  {
   "cell_type": "markdown",
   "metadata": {},
   "source": [
    "### **Simplificación:**"
   ]
  },
  {
   "cell_type": "markdown",
   "metadata": {},
   "source": [
    "Sympy posee y ofrece varias funciones para **simplificar y manipular expresiones**. \n",
    "Algunas son:"
   ]
  },
  {
   "cell_type": "code",
   "execution_count": 6,
   "metadata": {},
   "outputs": [],
   "source": [
    "# Declaro mis Variables simbólicas:\n",
    "x, y, z, t = symbols ('x, y, z, t')"
   ]
  },
  {
   "cell_type": "markdown",
   "metadata": {},
   "source": [
    "##### *Voy a Realizar la Siguiente Expasión de la expresión:*\n",
    "\n",
    "$$(x^3 + 3y + 2)^2 = x^6 + 6x^3y + 4x^3 + 9y^2 + 12y + 4$$"
   ]
  },
  {
   "cell_type": "code",
   "execution_count": 7,
   "metadata": {},
   "outputs": [
    {
     "data": {
      "image/png": "[encoded data removed]",
      "text/latex": [
       "$\\displaystyle \\left(x^{3} + 3 y + 2\\right)^{2}$"
      ],
      "text/plain": [
       "              2\n",
       "⎛ 3          ⎞ \n",
       "⎝x  + 3⋅y + 2⎠ "
      ]
     },
     "execution_count": 7,
     "metadata": {},
     "output_type": "execute_result"
    }
   ],
   "source": [
    "# Declaro mi expresión\n",
    "expres = (x**3 + 3*y + 2) ** 2\n",
    "expres"
   ]
  },
  {
   "cell_type": "code",
   "execution_count": 10,
   "metadata": {},
   "outputs": [
    {
     "data": {
      "image/png": "[encoded data removed]",
      "text/latex": [
       "$\\displaystyle x^{6} + 6 x^{3} y + 4 x^{3} + 9 y^{2} + 12 y + 4$"
      ],
      "text/plain": [
       " 6      3        3      2           \n",
       "x  + 6⋅x ⋅y + 4⋅x  + 9⋅y  + 12⋅y + 4"
      ]
     },
     "execution_count": 10,
     "metadata": {},
     "output_type": "execute_result"
    }
   ],
   "source": [
    "# Ahora voy a expandir mi expresión usando la función \"expand ( )\"\n",
    "expres.expand ( )"
   ]
  },
  {
   "cell_type": "code",
   "execution_count": 12,
   "metadata": {},
   "outputs": [
    {
     "data": {
      "image/png": "[encoded data removed]",
      "text/latex": [
       "$\\displaystyle x^{6} + 6 x^{3} y + 4 x^{3} + 9 y^{2} + 12 y + 4$"
      ],
      "text/plain": [
       " 6      3        3      2           \n",
       "x  + 6⋅x ⋅y + 4⋅x  + 9⋅y  + 12⋅y + 4"
      ]
     },
     "execution_count": 12,
     "metadata": {},
     "output_type": "execute_result"
    }
   ],
   "source": [
    "# Otra forma de hacerlo:\n",
    "a = expand ( expres )\n",
    "a"
   ]
  },
  {
   "cell_type": "markdown",
   "metadata": {},
   "source": [
    "#### *Si ahora realizo el proceso Inverso, en vez de expandir agrupo:*\n"
   ]
  },
  {
   "cell_type": "code",
   "execution_count": 19,
   "metadata": {},
   "outputs": [
    {
     "data": {
      "image/png": "[encoded data removed]",
      "text/latex": [
       "$\\displaystyle \\left(x^{3} + 3 y + 2\\right)^{2}$"
      ],
      "text/plain": [
       "              2\n",
       "⎛ 3          ⎞ \n",
       "⎝x  + 3⋅y + 2⎠ "
      ]
     },
     "execution_count": 19,
     "metadata": {},
     "output_type": "execute_result"
    }
   ],
   "source": [
    "# Para agrupar una expresión utilizo la función \"factor ( )\"\n",
    "# Tener en cuenta que dicha función agrupará en función si la expresión se puede agrupar.\n",
    "a.factor ( )"
   ]
  },
  {
   "cell_type": "code",
   "execution_count": 21,
   "metadata": {},
   "outputs": [
    {
     "data": {
      "image/png": "[encoded data removed]",
      "text/latex": [
       "$\\displaystyle \\left(x^{3} + 3 y + 2\\right)^{2}$"
      ],
      "text/plain": [
       "              2\n",
       "⎛ 3          ⎞ \n",
       "⎝x  + 3⋅y + 2⎠ "
      ]
     },
     "execution_count": 21,
     "metadata": {},
     "output_type": "execute_result"
    }
   ],
   "source": [
    "# Tambíen se puede realizar así como en el caso anterior.\n",
    "fact = factor ( a )\n",
    "fact"
   ]
  },
  {
   "cell_type": "code",
   "execution_count": 27,
   "metadata": {},
   "outputs": [
    {
     "data": {
      "image/png": "[encoded data removed]",
      "text/latex": [
       "$\\displaystyle x^{2} - 2 x y + y^{2}$"
      ],
      "text/plain": [
       " 2            2\n",
       "x  - 2⋅x⋅y + y "
      ]
     },
     "execution_count": 27,
     "metadata": {},
     "output_type": "execute_result"
    }
   ],
   "source": [
    "# Ahora observemos lo siguiente:\n",
    "binom = x**2 - 2*x*y + y**2\n",
    "binom"
   ]
  },
  {
   "cell_type": "code",
   "execution_count": 28,
   "metadata": {},
   "outputs": [
    {
     "data": {
      "image/png": "[encoded data removed]",
      "text/latex": [
       "$\\displaystyle \\left(x - y\\right)^{2}$"
      ],
      "text/plain": [
       "       2\n",
       "(x - y) "
      ]
     },
     "execution_count": 28,
     "metadata": {},
     "output_type": "execute_result"
    }
   ],
   "source": [
    "binom.factor ( )"
   ]
  },
  {
   "cell_type": "code",
   "execution_count": 29,
   "metadata": {},
   "outputs": [
    {
     "data": {
      "image/png": "[encoded data removed]",
      "text/latex": [
       "$\\displaystyle x^{2} - 2 x + y^{2}$"
      ],
      "text/plain": [
       " 2          2\n",
       "x  - 2⋅x + y "
      ]
     },
     "execution_count": 29,
     "metadata": {},
     "output_type": "execute_result"
    }
   ],
   "source": [
    "# Modifico la Expresión de binom y uso la función factor ( ):\n",
    "binom = x**2 - 2*x + y**2\n",
    "binom"
   ]
  },
  {
   "cell_type": "code",
   "execution_count": 31,
   "metadata": {},
   "outputs": [
    {
     "data": {
      "image/png": "[encoded data removed]",
      "text/latex": [
       "$\\displaystyle x^{2} - 2 x + y^{2}$"
      ],
      "text/plain": [
       " 2          2\n",
       "x  - 2⋅x + y "
      ]
     },
     "execution_count": 31,
     "metadata": {},
     "output_type": "execute_result"
    }
   ],
   "source": [
    "# Como se Observa dicha expresión ya no se puede \"agrupar como un binomio\" por lo que la función\n",
    "# va a devolver la misma expresión.\n",
    "binom.factor ( )"
   ]
  },
  {
   "cell_type": "markdown",
   "metadata": {},
   "source": [
    "###############################################################################################################################"
   ]
  },
  {
   "cell_type": "markdown",
   "metadata": {},
   "source": [
    "#### *Ahora voy a querer llevar la siguiente expresión a una \"Suma de Fracciones Simples\"*\n",
    "\n",
    "$$\\frac{(3x^2 - 2x + 1)}{(x-1)^2}$$"
   ]
  },
  {
   "cell_type": "code",
   "execution_count": 15,
   "metadata": {},
   "outputs": [
    {
     "data": {
      "image/png": "[encoded data removed]",
      "text/latex": [
       "$\\displaystyle \\frac{3 x^{2} - 2 x + 1}{\\left(x - 1\\right)^{2}}$"
      ],
      "text/plain": [
       "   2          \n",
       "3⋅x  - 2⋅x + 1\n",
       "──────────────\n",
       "          2   \n",
       "   (x - 1)    "
      ]
     },
     "execution_count": 15,
     "metadata": {},
     "output_type": "execute_result"
    }
   ],
   "source": [
    "# Para llevar una expresión a una Suma de Fracciones Simples utilizo la función \"apart ( )\"\n",
    "expres2 = (3*x**2 - 2*x + 1) / ( (x - 1) ** 2 )\n",
    "expres2"
   ]
  },
  {
   "cell_type": "code",
   "execution_count": 17,
   "metadata": {},
   "outputs": [
    {
     "data": {
      "image/png": "[encoded data removed]",
      "text/latex": [
       "$\\displaystyle 3 + \\frac{4}{x - 1} + \\frac{2}{\\left(x - 1\\right)^{2}}$"
      ],
      "text/plain": [
       "      4        2    \n",
       "3 + ───── + ────────\n",
       "    x - 1          2\n",
       "            (x - 1) "
      ]
     },
     "execution_count": 17,
     "metadata": {},
     "output_type": "execute_result"
    }
   ],
   "source": [
    "frac_simplif = apart ( expres2 )\n",
    "frac_simplif"
   ]
  },
  {
   "cell_type": "code",
   "execution_count": 18,
   "metadata": {},
   "outputs": [
    {
     "data": {
      "image/png": "[encoded data removed]",
      "text/latex": [
       "$\\displaystyle 3 + \\frac{4}{x - 1} + \\frac{2}{\\left(x - 1\\right)^{2}}$"
      ],
      "text/plain": [
       "      4        2    \n",
       "3 + ───── + ────────\n",
       "    x - 1          2\n",
       "            (x - 1) "
      ]
     },
     "execution_count": 18,
     "metadata": {},
     "output_type": "execute_result"
    }
   ],
   "source": [
    "# Nuevamente se puede hacer también así:\n",
    "expres2.apart ( )"
   ]
  },
  {
   "cell_type": "markdown",
   "metadata": {},
   "source": [
    "###############################################################################################################################"
   ]
  },
  {
   "cell_type": "markdown",
   "metadata": {},
   "source": [
    "#### *Ahora voy a querer expandir una expresión trigonométrica:*\n",
    "\n",
    "$$sin (x + 2y)$$"
   ]
  },
  {
   "cell_type": "code",
   "execution_count": 34,
   "metadata": {},
   "outputs": [
    {
     "data": {
      "image/png": "[encoded data removed]",
      "text/latex": [
       "$\\displaystyle \\sin{\\left(x + 2 y \\right)}$"
      ],
      "text/plain": [
       "sin(x + 2⋅y)"
      ]
     },
     "execution_count": 34,
     "metadata": {},
     "output_type": "execute_result"
    }
   ],
   "source": [
    "# Utilizando la función expand ( ) se observa que no funciona así como utilizamos dicha función.\n",
    "trigon = sin (x + 2*y)\n",
    "trigon"
   ]
  },
  {
   "cell_type": "code",
   "execution_count": 33,
   "metadata": {},
   "outputs": [
    {
     "data": {
      "image/png": "[encoded data removed]",
      "text/latex": [
       "$\\displaystyle \\sin{\\left(x + 2 y \\right)}$"
      ],
      "text/plain": [
       "sin(x + 2⋅y)"
      ]
     },
     "execution_count": 33,
     "metadata": {},
     "output_type": "execute_result"
    }
   ],
   "source": [
    "trigon.expand ( )"
   ]
  },
  {
   "cell_type": "code",
   "execution_count": 36,
   "metadata": {},
   "outputs": [
    {
     "data": {
      "image/png": "[encoded data removed]",
      "text/latex": [
       "$\\displaystyle 2 \\sin{\\left(x \\right)} \\cos^{2}{\\left(y \\right)} - \\sin{\\left(x \\right)} + 2 \\sin{\\left(y \\right)} \\cos{\\left(x \\right)} \\cos{\\left(y \\right)}$"
      ],
      "text/plain": [
       "            2                                     \n",
       "2⋅sin(x)⋅cos (y) - sin(x) + 2⋅sin(y)⋅cos(x)⋅cos(y)"
      ]
     },
     "execution_count": 36,
     "metadata": {},
     "output_type": "execute_result"
    }
   ],
   "source": [
    "# Debo pasarle un argumento más a la función expand ( ) para que sepa que tipo de expansión queremos.\n",
    "# En este caso queremos una expansión trigonométrica.\n",
    "# Consultar en el manual o help la función expand ( ).\n",
    "trigon.expand (trig = True)"
   ]
  },
  {
   "cell_type": "code",
   "execution_count": 94,
   "metadata": {},
   "outputs": [
    {
     "data": {
      "image/png": "[encoded data removed]",
      "text/latex": [
       "$\\displaystyle \\left(2 \\cos^{2}{\\left(y \\right)} - 1\\right) \\sin{\\left(x \\right)} + 2 \\sin{\\left(y \\right)} \\cos{\\left(x \\right)} \\cos{\\left(y \\right)}$"
      ],
      "text/plain": [
       "⎛     2       ⎞                                \n",
       "⎝2⋅cos (y) - 1⎠⋅sin(x) + 2⋅sin(y)⋅cos(x)⋅cos(y)"
      ]
     },
     "execution_count": 94,
     "metadata": {},
     "output_type": "execute_result"
    }
   ],
   "source": [
    "# Otra forma de hacerlo es:\n",
    "c = expand_trig ( trigon )\n",
    "c"
   ]
  },
  {
   "cell_type": "code",
   "execution_count": 96,
   "metadata": {},
   "outputs": [
    {
     "data": {
      "image/png": "[encoded data removed]",
      "text/latex": [
       "$\\displaystyle 2 \\sin{\\left(x \\right)} \\cos^{2}{\\left(y \\right)} - \\sin{\\left(x \\right)} + 2 \\sin{\\left(y \\right)} \\cos{\\left(x \\right)} \\cos{\\left(y \\right)}$"
      ],
      "text/plain": [
       "            2                                     \n",
       "2⋅sin(x)⋅cos (y) - sin(x) + 2⋅sin(y)⋅cos(x)⋅cos(y)"
      ]
     },
     "execution_count": 96,
     "metadata": {},
     "output_type": "execute_result"
    }
   ],
   "source": [
    "# Se observó que la expresión de arriba sólo aplico la propiedad trigonométrica a diferencia de la primera expresión que,\n",
    "# primero se aplicó la propiedad trigonométrica y luego la expansión.\n",
    "# para llegar a la misma expresión realizamos lo siguiente:\n",
    "c = expand ( c )\n",
    "c"
   ]
  },
  {
   "cell_type": "markdown",
   "metadata": {},
   "source": []
  },
  {
   "cell_type": "markdown",
   "metadata": {},
   "source": [
    "#### *Utilizando el mismo criterio para la función expand ( ) voy a expandir un número complejo:*"
   ]
  },
  {
   "cell_type": "code",
   "execution_count": 84,
   "metadata": {},
   "outputs": [
    {
     "data": {
      "image/png": "[encoded data removed]",
      "text/latex": [
       "$\\displaystyle a + i b$"
      ],
      "text/plain": [
       "a + ⅈ⋅b"
      ]
     },
     "execution_count": 84,
     "metadata": {},
     "output_type": "execute_result"
    }
   ],
   "source": [
    "a, b = symbols ('a, b')\n",
    "\n",
    "# Ahora z es un número complejo\n",
    "z = a + b*I\n",
    "z"
   ]
  },
  {
   "cell_type": "code",
   "execution_count": 85,
   "metadata": {},
   "outputs": [
    {
     "data": {
      "image/png": "[encoded data removed]",
      "text/latex": [
       "$\\displaystyle \\left(a + i b\\right)^{2}$"
      ],
      "text/plain": [
       "         2\n",
       "(a + ⅈ⋅b) "
      ]
     },
     "execution_count": 85,
     "metadata": {},
     "output_type": "execute_result"
    }
   ],
   "source": [
    "c = z ** 2\n",
    "c"
   ]
  },
  {
   "cell_type": "code",
   "execution_count": 86,
   "metadata": {},
   "outputs": [
    {
     "data": {
      "image/png": "[encoded data removed]",
      "text/latex": [
       "$\\displaystyle \\left(\\operatorname{re}{\\left(a\\right)}\\right)^{2} + 2 i \\operatorname{re}{\\left(a\\right)} \\operatorname{re}{\\left(b\\right)} + 2 i \\operatorname{re}{\\left(a\\right)} \\operatorname{im}{\\left(a\\right)} - 2 \\operatorname{re}{\\left(a\\right)} \\operatorname{im}{\\left(b\\right)} - \\left(\\operatorname{re}{\\left(b\\right)}\\right)^{2} - 2 \\operatorname{re}{\\left(b\\right)} \\operatorname{im}{\\left(a\\right)} - 2 i \\operatorname{re}{\\left(b\\right)} \\operatorname{im}{\\left(b\\right)} - \\left(\\operatorname{im}{\\left(a\\right)}\\right)^{2} - 2 i \\operatorname{im}{\\left(a\\right)} \\operatorname{im}{\\left(b\\right)} + \\left(\\operatorname{im}{\\left(b\\right)}\\right)^{2}$"
      ],
      "text/plain": [
       "  2                                                            2              \n",
       "re (a) + 2⋅ⅈ⋅re(a)⋅re(b) + 2⋅ⅈ⋅re(a)⋅im(a) - 2⋅re(a)⋅im(b) - re (b) - 2⋅re(b)⋅\n",
       "\n",
       "                            2                          2   \n",
       "im(a) - 2⋅ⅈ⋅re(b)⋅im(b) - im (a) - 2⋅ⅈ⋅im(a)⋅im(b) + im (b)"
      ]
     },
     "execution_count": 86,
     "metadata": {},
     "output_type": "execute_result"
    }
   ],
   "source": [
    "# Utilizando la función expand ( ) y pasandole adecuadamente el argumento obtengo:\n",
    "c = expand (c, complex = True)\n",
    "c"
   ]
  },
  {
   "cell_type": "code",
   "execution_count": 91,
   "metadata": {},
   "outputs": [
    {
     "data": {
      "image/png": "[encoded data removed]",
      "text/latex": [
       "$\\displaystyle a^{2} + 2 i a b - b^{2}$"
      ],
      "text/plain": [
       " 2              2\n",
       "a  + 2⋅ⅈ⋅a⋅b - b "
      ]
     },
     "execution_count": 91,
     "metadata": {},
     "output_type": "execute_result"
    }
   ],
   "source": [
    "# Se observó y esto es muy importante que tanto a como b podrían a su vez ser números complejos, para solucionarlo y que sean \n",
    "# tomados como números reales y no complejos, vamos a declarar a nuevamente como variable simbólica pero agregando la \n",
    "# propiedad de que sean un número real:\n",
    "c = symbols ('c', real = True)\n",
    "c = z ** 2\n",
    "c = expand (c, complex = True)\n",
    "c"
   ]
  },
  {
   "cell_type": "code",
   "execution_count": 93,
   "metadata": {},
   "outputs": [
    {
     "data": {
      "image/png": "[encoded data removed]",
      "text/latex": [
       "$\\displaystyle a^{2} + 2 i a b - b^{2}$"
      ],
      "text/plain": [
       " 2              2\n",
       "a  + 2⋅ⅈ⋅a⋅b - b "
      ]
     },
     "execution_count": 93,
     "metadata": {},
     "output_type": "execute_result"
    }
   ],
   "source": [
    "# Se puede obtener lo mismo o llegar a la misma expresión haciendo lo siguiente:\n",
    "c = symbols ('c', real = True)\n",
    "c = z ** 2\n",
    "c = expand_complex ( c )\n",
    "c"
   ]
  }
 ],
 "metadata": {
  "kernelspec": {
   "display_name": "Python 3",
   "language": "python",
   "name": "python3"
  },
  "language_info": {
   "codemirror_mode": {
    "name": "ipython",
    "version": 3
   },
   "file_extension": ".py",
   "mimetype": "text/x-python",
   "name": "python",
   "nbconvert_exporter": "python",
   "pygments_lexer": "ipython3",
   "version": "3.7.7"
  },
  "latex_envs": {
   "LaTeX_envs_menu_present": true,
   "autoclose": false,
   "autocomplete": true,
   "bibliofile": "biblio.bib",
   "cite_by": "apalike",
   "current_citInitial": 1,
   "eqLabelWithNumbers": true,
   "eqNumInitial": 1,
   "hotkeys": {
    "equation": "Ctrl-E",
    "itemize": "Ctrl-I"
   },
   "labels_anchors": false,
   "latex_user_defs": false,
   "report_style_numbering": false,
   "user_envs_cfg": true
  }
 },
 "nbformat": 4,
 "nbformat_minor": 4
}
