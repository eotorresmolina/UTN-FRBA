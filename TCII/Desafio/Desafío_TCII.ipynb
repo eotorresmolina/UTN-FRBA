{
 "cells": [
  {
   "cell_type": "markdown",
   "metadata": {},
   "source": [
    "<img src=\"./logo_utn_frba.jpg\" width=\"500\">"
   ]
  },
  {
   "cell_type": "markdown",
   "metadata": {},
   "source": [
    "### ***Teoría de los Circuitos II***\n",
    "#### Torres Molina Emmanuel\n",
    "#### **Legajo:** 146568-5"
   ]
  },
  {
   "cell_type": "markdown",
   "metadata": {},
   "source": [
    " ## Desafío Pasa-Bajos:"
   ]
  },
  {
   "cell_type": "markdown",
   "metadata": {},
   "source": [
    "1) *Diseñar un Filtro Pasa-Bajos cuya Plantilla es:*\n",
    "\n",
    "* fp = 500 Hz\n",
    "* fs = 1500 Hz\n",
    "* alfa_máx = 1dB\n",
    "* alfa_mín = 1dB"
   ]
  },
  {
   "cell_type": "markdown",
   "metadata": {},
   "source": [
    "# Respuestas al Desafío:"
   ]
  },
  {
   "cell_type": "code",
   "execution_count": 2,
   "metadata": {},
   "outputs": [],
   "source": [
    "# Paquetes y Módulos que Utilizo en Jupyter\n",
    "\n",
    "%matplotlib inline\n",
    "from IPython.display import Image as img\n",
    "from scipy.signal import TransferFunction as tf\n",
    "import scipy.signal as sig\n",
    "from splane import bodePlot, pzmap\n",
    "import numpy as np\n",
    "\n",
    "# Plantilla de Requerimientos:\n",
    "a_max = 1 # Atenuación Máxima en la Banda de Paso\n",
    "a_min = 18 # Atenuación mínima en la Banda de Stop\n",
    "\n",
    "# Frecuencias y Pulsaciones Angulares:\n",
    "fp = 500\n",
    "fs = 1500\n",
    "wp = 2 * np.pi * fp\n",
    "ws = 2 * np.pi * fs\n",
    "\n",
    "# Valores Normalizados\n",
    "wp_prima = wp / wp\n",
    "ws_prima = ws / wp\n",
    "\n",
    "# Calculo del epsilon\n",
    "eps = np.sqrt (10 ** (a_max/10) - 1) #Ripple "
   ]
  },
  {
   "cell_type": "markdown",
   "metadata": {},
   "source": [
    "# a) Filtro Pasa-Bajos Máxima Planicidad:"
   ]
  },
  {
   "cell_type": "code",
   "execution_count": 3,
   "metadata": {
    "scrolled": true
   },
   "outputs": [
    {
     "name": "stdout",
     "output_type": "stream",
     "text": [
      "El valor del epsilon obtenido es:  0.5088471399095875\n",
      "\n",
      "El Orden del Filtro es:  3.0\n"
     ]
    }
   ],
   "source": [
    "# Cálculo y Valores Obtenidos de la Plantilla Solicitada para Máxima Planicidad:\n",
    "\n",
    "# Orden del Filtro\n",
    "N = np.log10 (((10 ** (a_min/10) - 1) / eps**2)) / (2 * np.log10 (ws_prima))\n",
    "N = np.ceil ( N ) # Redondeo para Arriba\n",
    "\n",
    "print (\"El valor del epsilon obtenido es: \", eps)\n",
    "print (\"\\nEl Orden del Filtro es: \", N)\n"
   ]
  },
  {
   "cell_type": "markdown",
   "metadata": {},
   "source": [
    "\n"
   ]
  },
  {
   "cell_type": "markdown",
   "metadata": {},
   "source": [
    "\n",
    "\n",
    "##### **Imágenes Correspondientes a la Resolución del Ejercicio:**"
   ]
  },
  {
   "cell_type": "markdown",
   "metadata": {},
   "source": [
    "**$$Hoja Nro. 1:$$**\n",
    "<img src=\"./max_planic_hoja1.jpeg\" width = \"500\">"
   ]
  },
  {
   "cell_type": "markdown",
   "metadata": {},
   "source": [
    "\n",
    "\n"
   ]
  },
  {
   "cell_type": "markdown",
   "metadata": {},
   "source": [
    "**$$ Hoja Nro. 2:$$**\n",
    "<img src='./max_planic_hoja2.jpeg' width = \"500\">"
   ]
  },
  {
   "cell_type": "markdown",
   "metadata": {},
   "source": [
    "\n",
    "\n",
    "\n"
   ]
  },
  {
   "cell_type": "markdown",
   "metadata": {},
   "source": [
    "# b) Filtro Pasa-Bajos Chebyshev:"
   ]
  },
  {
   "cell_type": "code",
   "execution_count": 4,
   "metadata": {},
   "outputs": [
    {
     "name": "stdout",
     "output_type": "stream",
     "text": [
      "El valor del epsilon obtenido es:  0.5088471399095875\n",
      "\n",
      "El Orden del Filtro es:  2.0\n"
     ]
    }
   ],
   "source": [
    "# Cálculo y Valores Obtenidos de la Plantilla Solicitada para Máxima Planicidad:\n",
    "\n",
    "# Orden del Filtro\n",
    "N = np.arccosh ( np.sqrt (10**(a_min/10)/eps**2)) /  np.arccosh(ws_prima)  \n",
    "N = np.ceil ( N ) # Redondeo para Arriba\n",
    "\n",
    "print (\"El valor del epsilon obtenido es: \", eps)\n",
    "print (\"\\nEl Orden del Filtro es: \", N)"
   ]
  },
  {
   "cell_type": "markdown",
   "metadata": {},
   "source": []
  },
  {
   "cell_type": "code",
   "execution_count": 7,
   "metadata": {},
   "outputs": [],
   "source": [
    "# Obtengo los Ceros, Polos y K (Ganancia) de mi Diseño:\n",
    "z = np.array ( [ ] )\n",
    "p = np.roots ( [1, 1.097, 1.102] )\n",
    "k = 1.102\n",
    "\n",
    "# Transferencia de mi Filtro:\n",
    "NUM, DEN = sig.zpk2tf ( z, p, k )\n",
    "my_tf = tf (NUM, DEN)"
   ]
  },
  {
   "cell_type": "code",
   "execution_count": 11,
   "metadata": {},
   "outputs": [
    {
     "data": {
      "text/plain": [
       "(array([], dtype=float64),\n",
       " array([-0.5485+0.89506857j, -0.5485-0.89506857j]),\n",
       " 1.102)"
      ]
     },
     "execution_count": 11,
     "metadata": {},
     "output_type": "execute_result"
    }
   ],
   "source": [
    "# Muestro los Resultados de Ceros, Polos, Ganancia y Transferencia Obtenidos:\n",
    "z, p, k"
   ]
  },
  {
   "cell_type": "code",
   "execution_count": 14,
   "metadata": {},
   "outputs": [
    {
     "data": {
      "text/plain": [
       "TransferFunctionContinuous(\n",
       "array([1.102]),\n",
       "array([1.   , 1.097, 1.102]),\n",
       "dt: None\n",
       ")"
      ]
     },
     "execution_count": 14,
     "metadata": {},
     "output_type": "execute_result"
    }
   ],
   "source": [
    "# Transferencia Obtenida:\n",
    "my_tf"
   ]
  },
  {
   "cell_type": "code",
   "execution_count": 11,
   "metadata": {},
   "outputs": [
    {
     "data": {
      "text/plain": [
       "0.9569388129087119"
      ]
     },
     "execution_count": 11,
     "metadata": {},
     "output_type": "execute_result"
    }
   ],
   "source": [
    "# Factor de Selectividad o Mérito Q:\n",
    "qq = np.sqrt (DEN[2]) / DEN[1]\n",
    "qq"
   ]
  },
  {
   "cell_type": "code",
   "execution_count": 15,
   "metadata": {
    "scrolled": true
   },
   "outputs": [
    {
     "data": {
      "text/plain": [
       "(1,\n",
       " array([<matplotlib.axes._subplots.AxesSubplot object at 0x000002716896D7C8>,\n",
       "        <matplotlib.axes._subplots.AxesSubplot object at 0x000002716C0033C8>],\n",
       "       dtype=object))"
      ]
     },
     "execution_count": 15,
     "metadata": {},
     "output_type": "execute_result"
    },
    {
     "data": {
      "image/png": "[encoded data removed]",
      "text/plain": [
       "<Figure size 432x288 with 2 Axes>"
      ]
     },
     "metadata": {
      "needs_background": "light"
     },
     "output_type": "display_data"
    }
   ],
   "source": [
    "# Respuesta de Módulo y Fase:\n",
    "bodePlot(my_tf)"
   ]
  },
  {
   "cell_type": "markdown",
   "metadata": {},
   "source": []
  },
  {
   "cell_type": "code",
   "execution_count": 17,
   "metadata": {},
   "outputs": [
    {
     "data": {
      "text/plain": [
       "(1, <matplotlib.axes._subplots.AxesSubplot at 0x2716c22fa88>)"
      ]
     },
     "execution_count": 17,
     "metadata": {},
     "output_type": "execute_result"
    },
    {
     "data": {
      "image/png": "[encoded data removed]",
      "text/plain": [
       "<Figure size 432x288 with 1 Axes>"
      ]
     },
     "metadata": {
      "needs_background": "light"
     },
     "output_type": "display_data"
    }
   ],
   "source": [
    "# Diagrama de Polos y Ceros:\n",
    "pzmap (my_tf)"
   ]
  },
  {
   "cell_type": "markdown",
   "metadata": {},
   "source": []
  },
  {
   "cell_type": "markdown",
   "metadata": {},
   "source": [
    "# c) Síntesis y Simulación del Filtro ChebyShev Calculado:"
   ]
  },
  {
   "cell_type": "markdown",
   "metadata": {},
   "source": []
  },
  {
   "cell_type": "markdown",
   "metadata": {},
   "source": [
    "### $$Circuito:$$\n",
    "<img src='./Ejercicio_Chebyshev_circuito.jpg' width = \"800\">"
   ]
  },
  {
   "cell_type": "markdown",
   "metadata": {},
   "source": []
  },
  {
   "cell_type": "markdown",
   "metadata": {},
   "source": [
    "### $$Simulación:$$\n",
    "<img src='./Ejercicio_Chebyshev.jpg' width = \"1000\">"
   ]
  },
  {
   "cell_type": "markdown",
   "metadata": {},
   "source": []
  },
  {
   "cell_type": "markdown",
   "metadata": {},
   "source": [
    "**Link para descargar el archivo que contiene el circuito para realizar la Simulación en LTSpice (.asc)  :**\n",
    "[Ejercicio_Chebyshev.zip](https://github.com/eotorresmolina/UTN-FRBA/blob/master/TCII/Desafio/Ejercicio_Chebyshev.zip?raw=true)"
   ]
  }
 ],
 "metadata": {
  "kernelspec": {
   "display_name": "Python 3",
   "language": "python",
   "name": "python3"
  },
  "language_info": {
   "codemirror_mode": {
    "name": "ipython",
    "version": 3
   },
   "file_extension": ".py",
   "mimetype": "text/x-python",
   "name": "python",
   "nbconvert_exporter": "python",
   "pygments_lexer": "ipython3",
   "version": "3.7.7"
  },
  "latex_envs": {
   "LaTeX_envs_menu_present": true,
   "autoclose": false,
   "autocomplete": true,
   "bibliofile": "biblio.bib",
   "cite_by": "apalike",
   "current_citInitial": 1,
   "eqLabelWithNumbers": true,
   "eqNumInitial": 1,
   "hotkeys": {
    "equation": "Ctrl-E",
    "itemize": "Ctrl-I"
   },
   "labels_anchors": false,
   "latex_user_defs": false,
   "report_style_numbering": false,
   "user_envs_cfg": true
  }
 },
 "nbformat": 4,
 "nbformat_minor": 4
}
