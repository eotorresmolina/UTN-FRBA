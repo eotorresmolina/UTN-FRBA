{
 "cells": [
  {
   "cell_type": "markdown",
   "metadata": {},
   "source": [
    "<img src=\"./logo_utn_frba.jpg\" width=\"500\">"
   ]
  },
  {
   "cell_type": "markdown",
   "metadata": {},
   "source": [
    "### ***Teoría de los Circuitos II***\n",
    "#### Torres Molina Emmanuel\n",
    "#### **Legajo:** 146568-5"
   ]
  },
  {
   "cell_type": "markdown",
   "metadata": {},
   "source": [
    " ## Desafío Pasa-Bajos:"
   ]
  },
  {
   "cell_type": "markdown",
   "metadata": {},
   "source": [
    "1) *Diseñar un Filtro Pasa-Bajos cuya Plantilla es:*\n",
    "\n",
    "* fp = 500 Hz\n",
    "* fs = 1500 Hz\n",
    "* alfa_máx = 1dB\n",
    "* alfa_mín = 1dB"
   ]
  },
  {
   "cell_type": "markdown",
   "metadata": {},
   "source": [
    "# Respuestas al Desafío:"
   ]
  },
  {
   "cell_type": "code",
   "execution_count": 2,
   "metadata": {},
   "outputs": [],
   "source": [
    "# Paquetes y Módulos que Utilizo en Jupyter\n",
    "\n",
    "%matplotlib inline\n",
    "from IPython.display import Image as img\n",
    "import numpy as np\n",
    "\n",
    "# Plantilla de Requerimientos:\n",
    "a_max = 1 # Atenuación Máxima en la Banda de Paso\n",
    "a_min = 18 # Atenuación mínima en la Banda de Stop\n",
    "\n",
    "# Frecuencias y Pulsaciones Angulares:\n",
    "fp = 500\n",
    "fs = 1500\n",
    "wp = 2 * np.pi * fp\n",
    "ws = 2 * np.pi * fs\n",
    "\n",
    "# Valores Normalizados\n",
    "wp_prima = wp / wp\n",
    "ws_prima = ws / wp\n",
    "\n",
    "# Calculo del epsilon\n",
    "eps = np.sqrt (10 ** (a_max/10) - 1) #Ripple "
   ]
  },
  {
   "cell_type": "markdown",
   "metadata": {},
   "source": [
    "# a) Filtro Pasa-Bajos Máxima Planicidad:"
   ]
  },
  {
   "cell_type": "code",
   "execution_count": 6,
   "metadata": {
    "scrolled": true
   },
   "outputs": [
    {
     "name": "stdout",
     "output_type": "stream",
     "text": [
      "El valor del epsilon obtenido es:  0.5088471399095875\n",
      "\n",
      "El Orden del Filtro es:  3.0\n"
     ]
    }
   ],
   "source": [
    "# Cálculo y Valores Obtenidos de la Plantilla Solicitada para Máxima Planicidad:\n",
    "\n",
    "# Orden del Filtro\n",
    "N = np.log10 (((10 ** (a_min/10) - 1) / eps**2)) / (2 * np.log10 (ws_prima))\n",
    "N = np.ceil ( N ) # Redondeo para Arriba\n",
    "\n",
    "print (\"El valor del epsilon obtenido es: \", eps)\n",
    "print (\"\\nEl Orden del Filtro es: \", N)\n"
   ]
  },
  {
   "cell_type": "markdown",
   "metadata": {},
   "source": [
    "\n"
   ]
  },
  {
   "cell_type": "markdown",
   "metadata": {},
   "source": [
    "\n",
    "\n",
    "##### **Imágenes Correspondientes a la Resolución del Ejercicio:**"
   ]
  },
  {
   "cell_type": "markdown",
   "metadata": {},
   "source": [
    "**$$Hoja Nro. 1:$$**\n",
    "<img src=\"./max_planic_hoja1.jpeg\">"
   ]
  },
  {
   "cell_type": "markdown",
   "metadata": {},
   "source": [
    "\n",
    "\n"
   ]
  },
  {
   "cell_type": "markdown",
   "metadata": {},
   "source": [
    "**$$ Hoja Nro. 2:$$**\n",
    "<img src='./max_planic_hoja2.jpeg'>"
   ]
  },
  {
   "cell_type": "markdown",
   "metadata": {},
   "source": [
    "\n",
    "\n"
   ]
  }
 ],
 "metadata": {
  "kernelspec": {
   "display_name": "Python 3",
   "language": "python",
   "name": "python3"
  },
  "language_info": {
   "codemirror_mode": {
    "name": "ipython",
    "version": 3
   },
   "file_extension": ".py",
   "mimetype": "text/x-python",
   "name": "python",
   "nbconvert_exporter": "python",
   "pygments_lexer": "ipython3",
   "version": "3.7.7"
  },
  "latex_envs": {
   "LaTeX_envs_menu_present": true,
   "autoclose": false,
   "autocomplete": true,
   "bibliofile": "biblio.bib",
   "cite_by": "apalike",
   "current_citInitial": 1,
   "eqLabelWithNumbers": true,
   "eqNumInitial": 1,
   "hotkeys": {
    "equation": "Ctrl-E",
    "itemize": "Ctrl-I"
   },
   "labels_anchors": false,
   "latex_user_defs": false,
   "report_style_numbering": false,
   "user_envs_cfg": true
  }
 },
 "nbformat": 4,
 "nbformat_minor": 4
}
