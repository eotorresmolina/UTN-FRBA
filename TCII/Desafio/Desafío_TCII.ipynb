{
 "cells": [
  {
   "cell_type": "markdown",
   "metadata": {},
   "source": [
    "<img src=\"./logo_utn_frba.jpg\" width=\"500\">"
   ]
  },
  {
   "cell_type": "markdown",
   "metadata": {},
   "source": [
    "### ***Teoría de los Circuitos II***\n",
    "#### Torres Molina Emmanuel\n",
    "#### **Legajo:** 146568-5"
   ]
  },
  {
   "cell_type": "markdown",
   "metadata": {},
   "source": [
    " ## Desafío Pasa-Bajos:"
   ]
  },
  {
   "cell_type": "markdown",
   "metadata": {},
   "source": [
    "1) *Diseñar un Filtro Pasa-Bajos cuya Plantilla es:*\n",
    "\n",
    "* fp = 500 Hz\n",
    "* fs = 1500 Hz\n",
    "* alfa_máx = 1dB\n",
    "* alfa_mín = 1dB"
   ]
  },
  {
   "cell_type": "markdown",
   "metadata": {},
   "source": [
    "# Respuestas al Desafío:"
   ]
  },
  {
   "cell_type": "code",
   "execution_count": 3,
   "metadata": {},
   "outputs": [],
   "source": [
    "# Paquetes y Módulos que Utilizo en Jupyter\n",
    "\n",
    "%matplotlib inline\n",
    "from IPython.display import Image as img\n",
    "from scipy.signal import TransferFunction as tf\n",
    "import scipy.signal as sig\n",
    "from splane import bodePlot, pzmap\n",
    "import numpy as np\n",
    "\n",
    "# Plantilla de Requerimientos:\n",
    "a_max = 1 # Atenuación Máxima en la Banda de Paso\n",
    "a_min = 18 # Atenuación mínima en la Banda de Stop\n",
    "\n",
    "# Frecuencias y Pulsaciones Angulares:\n",
    "fp = 500\n",
    "fs = 1500\n",
    "wp = 2 * np.pi * fp\n",
    "ws = 2 * np.pi * fs\n",
    "\n",
    "# Valores Normalizados\n",
    "wp_prima = wp / wp\n",
    "ws_prima = ws / wp\n",
    "\n",
    "# Calculo del epsilon\n",
    "eps = np.sqrt (10 ** (a_max/10) - 1) #Ripple "
   ]
  },
  {
   "cell_type": "markdown",
   "metadata": {},
   "source": [
    "# a) Filtro Pasa-Bajos Máxima Planicidad:"
   ]
  },
  {
   "cell_type": "code",
   "execution_count": 6,
   "metadata": {
    "scrolled": true
   },
   "outputs": [
    {
     "name": "stdout",
     "output_type": "stream",
     "text": [
      "El valor del epsilon obtenido es:  0.5088471399095875\n",
      "\n",
      "El Orden del Filtro es:  3.0\n"
     ]
    }
   ],
   "source": [
    "# Cálculo y Valores Obtenidos de la Plantilla Solicitada para Máxima Planicidad:\n",
    "\n",
    "# Orden del Filtro\n",
    "N = np.log10 (((10 ** (a_min/10) - 1) / eps**2)) / (2 * np.log10 (ws_prima))\n",
    "N = np.ceil ( N ) # Redondeo para Arriba\n",
    "\n",
    "print (\"El valor del epsilon obtenido es: \", eps)\n",
    "print (\"\\nEl Orden del Filtro es: \", N)\n"
   ]
  },
  {
   "cell_type": "markdown",
   "metadata": {},
   "source": [
    "\n"
   ]
  },
  {
   "cell_type": "markdown",
   "metadata": {},
   "source": [
    "\n",
    "\n",
    "##### **Imágenes Correspondientes a la Resolución del Ejercicio:**"
   ]
  },
  {
   "cell_type": "markdown",
   "metadata": {},
   "source": [
    "**$$Hoja Nro. 1:$$**\n",
    "<img src=\"./max_planic_hoja1.jpeg\" width = \"500\">"
   ]
  },
  {
   "cell_type": "markdown",
   "metadata": {},
   "source": [
    "\n",
    "\n"
   ]
  },
  {
   "cell_type": "markdown",
   "metadata": {},
   "source": [
    "**$$ Hoja Nro. 2:$$**\n",
    "<img src='./max_planic_hoja2.jpeg' width = \"500\">"
   ]
  },
  {
   "cell_type": "markdown",
   "metadata": {},
   "source": [
    "\n",
    "\n",
    "\n"
   ]
  },
  {
   "cell_type": "markdown",
   "metadata": {},
   "source": [
    "# b) Filtro Pasa-Bajos Chebyshev:"
   ]
  },
  {
   "cell_type": "code",
   "execution_count": 7,
   "metadata": {},
   "outputs": [
    {
     "name": "stdout",
     "output_type": "stream",
     "text": [
      "El valor del epsilon obtenido es:  0.5088471399095875\n",
      "\n",
      "El Orden del Filtro es:  2.0\n"
     ]
    }
   ],
   "source": [
    "# Cálculo y Valores Obtenidos de la Plantilla Solicitada para Máxima Planicidad:\n",
    "\n",
    "# Orden del Filtro\n",
    "N = np.arccosh ( np.sqrt (10**(a_min/10)/eps**2)) /  np.arccosh(ws_prima)  \n",
    "N = np.ceil ( N ) # Redondeo para Arriba\n",
    "\n",
    "print (\"El valor del epsilon obtenido es: \", eps)\n",
    "print (\"\\nEl Orden del Filtro es: \", N)"
   ]
  },
  {
   "cell_type": "markdown",
   "metadata": {},
   "source": []
  },
  {
   "cell_type": "code",
   "execution_count": 4,
   "metadata": {},
   "outputs": [
    {
     "data": {
      "text/plain": [
       "TransferFunctionContinuous(\n",
       "array([1.1]),\n",
       "array([1.   , 1.306, 1.1  ]),\n",
       "dt: None\n",
       ")"
      ]
     },
     "execution_count": 4,
     "metadata": {},
     "output_type": "execute_result"
    }
   ],
   "source": [
    "# Cálculo de los Coeficientes de mi Transferencia de Chebyshev:\n",
    "\n",
    "NUM = np.array ( [1.1] )\n",
    "DEN = np.array ( [1, 1.306, 1.1] )\n",
    "\n",
    "my_tf = tf ( NUM, DEN )\n",
    "my_tf\n",
    "\n"
   ]
  },
  {
   "cell_type": "code",
   "execution_count": 25,
   "metadata": {},
   "outputs": [
    {
     "data": {
      "text/plain": [
       "(array([], dtype=float64), array([-0.653+0.8207259j, -0.653-0.8207259j]), 1.1)"
      ]
     },
     "execution_count": 25,
     "metadata": {},
     "output_type": "execute_result"
    }
   ],
   "source": [
    "# Obtengo los Ceros, Polos y K (Ganancia) de mi Diseño:\n",
    "z, p, k = sig.tf2zpk ( NUM, DEN )\n",
    "z, p, k"
   ]
  },
  {
   "cell_type": "code",
   "execution_count": 9,
   "metadata": {
    "scrolled": true
   },
   "outputs": [
    {
     "data": {
      "text/plain": [
       "(1,\n",
       " array([<matplotlib.axes._subplots.AxesSubplot object at 0x000001EE1CE09708>,\n",
       "        <matplotlib.axes._subplots.AxesSubplot object at 0x000001EE1CE41408>],\n",
       "       dtype=object))"
      ]
     },
     "execution_count": 9,
     "metadata": {},
     "output_type": "execute_result"
    },
    {
     "data": {
      "image/png": "[encoded data removed]",
      "text/plain": [
       "<Figure size 432x288 with 2 Axes>"
      ]
     },
     "metadata": {
      "needs_background": "light"
     },
     "output_type": "display_data"
    }
   ],
   "source": [
    "# Respuesta de Módulo y Fase:\n",
    "bodePlot(my_tf)"
   ]
  },
  {
   "cell_type": "markdown",
   "metadata": {},
   "source": []
  },
  {
   "cell_type": "code",
   "execution_count": 6,
   "metadata": {},
   "outputs": [
    {
     "data": {
      "text/plain": [
       "(1, <matplotlib.axes._subplots.AxesSubplot at 0x1ee1bc85348>)"
      ]
     },
     "execution_count": 6,
     "metadata": {},
     "output_type": "execute_result"
    },
    {
     "data": {
      "image/png": "[encoded data removed]",
      "text/plain": [
       "<Figure size 432x288 with 1 Axes>"
      ]
     },
     "metadata": {
      "needs_background": "light"
     },
     "output_type": "display_data"
    }
   ],
   "source": [
    "# Diagrama de Polos y Ceros:\n",
    "pzmap (my_tf)"
   ]
  }
 ],
 "metadata": {
  "kernelspec": {
   "display_name": "Python 3",
   "language": "python",
   "name": "python3"
  },
  "language_info": {
   "codemirror_mode": {
    "name": "ipython",
    "version": 3
   },
   "file_extension": ".py",
   "mimetype": "text/x-python",
   "name": "python",
   "nbconvert_exporter": "python",
   "pygments_lexer": "ipython3",
   "version": "3.7.7"
  },
  "latex_envs": {
   "LaTeX_envs_menu_present": true,
   "autoclose": false,
   "autocomplete": true,
   "bibliofile": "biblio.bib",
   "cite_by": "apalike",
   "current_citInitial": 1,
   "eqLabelWithNumbers": true,
   "eqNumInitial": 1,
   "hotkeys": {
    "equation": "Ctrl-E",
    "itemize": "Ctrl-I"
   },
   "labels_anchors": false,
   "latex_user_defs": false,
   "report_style_numbering": false,
   "user_envs_cfg": true
  }
 },
 "nbformat": 4,
 "nbformat_minor": 4
}
