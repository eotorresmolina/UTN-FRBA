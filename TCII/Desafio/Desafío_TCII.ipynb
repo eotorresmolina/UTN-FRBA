{
 "cells": [
  {
   "cell_type": "markdown",
   "metadata": {},
   "source": [
    "<img src=\"./logo_utn_frba.jpg\" width=\"500\">"
   ]
  },
  {
   "cell_type": "markdown",
   "metadata": {},
   "source": [
    "* ### ***Ingeniería Electrónica***\n",
    "* ### ***Teoría de los Circuitos II***\n",
    "* #### *Torres Molina Emmanuel O.*\n",
    "* #### **Legajo:** 146568-5"
   ]
  },
  {
   "cell_type": "markdown",
   "metadata": {},
   "source": [
    " * ##  Desafío Filtro Pasa-Bajos:"
   ]
  },
  {
   "cell_type": "markdown",
   "metadata": {},
   "source": [
    "1) *Diseñar un Filtro Pasa-Bajos cuyos Requerimientos son:*\n",
    "\n",
    "$$\\bullet fp = 500 Hz$$\n",
    "\n",
    "$$\\bullet fs = 1500 Hz$$\n",
    "\n",
    "$$\\bullet \\alpha_{máx} = 1dB$$\n",
    "\n",
    "$$\\bullet \\alpha_{mín} = 1dB$$"
   ]
  },
  {
   "cell_type": "markdown",
   "metadata": {},
   "source": [
    "# Respuestas al Desafío:"
   ]
  },
  {
   "cell_type": "code",
   "execution_count": 10,
   "metadata": {},
   "outputs": [],
   "source": [
    "# Paquetes y Módulos que Utilizo de Python en Jupyter\n",
    "\n",
    "# Para que los Gráficos me los realice en el notebook\n",
    "%matplotlib inline \n",
    "\n",
    "from scipy.signal import TransferFunction as tf\n",
    "import scipy.signal as sig\n",
    "from splane import bodePlot, pzmap, convert2SOS\n",
    "import numpy as np\n",
    "\n",
    "# Plantilla de Requerimientos:\n",
    "a_max = 1 # Atenuación Máxima en la Banda de Paso [dB]\n",
    "a_min = 18 # Atenuación mínima en la Banda de Stop [dB]\n",
    "\n",
    "# Frecuencias y Pulsaciones Angulares:\n",
    "fp = 500         # [Hz]\n",
    "fs = 1500        # [Hz]\n",
    "wp = 2 * np.pi * fp       # [rad/seg]\n",
    "ws = 2 * np.pi * fs       # [rad/seg]\n",
    "\n",
    "# Valores Normalizados\n",
    "wp_prima = wp / wp\n",
    "ws_prima = ws / wp\n",
    "\n",
    "# Calculo del epsilon\n",
    "eps = np.sqrt (10 ** (a_max/10) - 1) #Ripple "
   ]
  },
  {
   "cell_type": "markdown",
   "metadata": {},
   "source": []
  },
  {
   "cell_type": "markdown",
   "metadata": {},
   "source": [
    "# a) Filtro Pasa-Bajos Máxima Planicidad:"
   ]
  },
  {
   "cell_type": "code",
   "execution_count": 11,
   "metadata": {
    "scrolled": false
   },
   "outputs": [
    {
     "name": "stdout",
     "output_type": "stream",
     "text": [
      "El valor del epsilon obtenido es:  0.5088471399095875\n",
      "\n",
      "El Orden del Filtro es:  3.0\n",
      "\n",
      "wb =  1.2525763881810263\n"
     ]
    }
   ],
   "source": [
    "# Cálculo y Valores Obtenidos de la Plantilla Solicitada para Máxima Planicidad:\n",
    "\n",
    "# Orden del Filtro\n",
    "N = np.log10 (((10 ** (a_min/10) - 1) / eps**2)) / (2 * np.log10 (ws_prima))\n",
    "N = np.ceil ( N ) # Redondeo para Arriba\n",
    "\n",
    "wb = eps**( -1 / N ) * wp_prima # Cálculo del Wb.\n",
    "\n",
    "print (\"El valor del epsilon obtenido es: \", eps)\n",
    "print (\"\\nEl Orden del Filtro es: \", N)\n",
    "print (\"\\nwb = \", wb)\n"
   ]
  },
  {
   "cell_type": "markdown",
   "metadata": {},
   "source": []
  },
  {
   "cell_type": "code",
   "execution_count": 12,
   "metadata": {},
   "outputs": [
    {
     "data": {
      "text/plain": [
       "(array([], dtype=float64),\n",
       " array([-0.5+0.8660254j, -1. -0.j       , -0.5-0.8660254j]),\n",
       " 1)"
      ]
     },
     "execution_count": 12,
     "metadata": {},
     "output_type": "execute_result"
    }
   ],
   "source": [
    "# Cálculo de la Transferencia Normalizada Usando las Herramientas y Métodos encapsulados dentro del Paquete Signal de Scipy:\n",
    "\n",
    "z, p, k = sig.buttap(N) # Me Devuelve los Ceros, Polos y Ganancia para el Orden Especificado.\n",
    "z, p, k"
   ]
  },
  {
   "cell_type": "code",
   "execution_count": 13,
   "metadata": {},
   "outputs": [
    {
     "data": {
      "text/plain": [
       "(array([1.]), array([1., 2., 2., 1.]))"
      ]
     },
     "execution_count": 13,
     "metadata": {},
     "output_type": "execute_result"
    }
   ],
   "source": [
    "# Numerador y Denominador de mi Transferencia Normalizada:\n",
    "NUM, DEN = sig.zpk2tf ( z, p, k )\n",
    "NUM, DEN"
   ]
  },
  {
   "cell_type": "code",
   "execution_count": 15,
   "metadata": {},
   "outputs": [
    {
     "data": {
      "text/plain": [
       "TransferFunctionContinuous(\n",
       "array([1.]),\n",
       "array([1., 2., 2., 1.]),\n",
       "dt: None\n",
       ")"
      ]
     },
     "execution_count": 15,
     "metadata": {},
     "output_type": "execute_result"
    }
   ],
   "source": [
    "# Transferencia Normalizada de Butterworth:\n",
    "my_tf_bw = tf (NUM, DEN)\n",
    "my_tf_bw"
   ]
  },
  {
   "cell_type": "code",
   "execution_count": 19,
   "metadata": {},
   "outputs": [
    {
     "data": {
      "text/plain": [
       "array([[1., 1., 1.],\n",
       "       [0., 1., 1.]])"
      ]
     },
     "execution_count": 19,
     "metadata": {},
     "output_type": "execute_result"
    }
   ],
   "source": [
    "# Me Devuelve Factorizado el Denominador de la Transferencia Normalizada: ==> ($^2 + $ + 1)*($+1)\n",
    "convert2SOS(my_tf_bw)"
   ]
  },
  {
   "cell_type": "code",
   "execution_count": 1,
   "metadata": {},
   "outputs": [],
   "source": [
    "# Si estamos en un Caso de un Filtro Butterworth Puro (eps = 1) No hace Falta Descomentar.\n",
    "\n",
    "# Suponiendo que se ha hecho una Renormalización a Nivel de Frecuencia: Norma: wb\n",
    "# Sirve únicamente cuando eps != 1 o a_max != 3 [dB] ==> Caso Máxima Planicidad\n",
    "# Descomentar las líneas de abajo sólo si se quiere Desnormalizar, y Realizar un Ploteo del \n",
    "# Módulo y la Fase de la Transferencia Normalizada y el Diagrama de Polos y Ceros. \n",
    "\n",
    "#NUM, DEN = sig.lp2lp (NUM, DEN, wb)\n",
    "\n",
    "#wb, NUM, DEN"
   ]
  },
  {
   "cell_type": "code",
   "execution_count": 11,
   "metadata": {},
   "outputs": [],
   "source": [
    "#my_tf_mp = tf (NUM, DEN)\n",
    "#my_tf_mp"
   ]
  },
  {
   "cell_type": "code",
   "execution_count": 12,
   "metadata": {},
   "outputs": [],
   "source": [
    "#bodePlot ( my_tf_mp )\n",
    "#pzmap ( my_tf_mp )"
   ]
  },
  {
   "cell_type": "markdown",
   "metadata": {},
   "source": []
  },
  {
   "cell_type": "markdown",
   "metadata": {},
   "source": [
    "\n",
    "\n",
    "* ##### **Imágenes Correspondientes a la Resolución del Ejercicio:**"
   ]
  },
  {
   "cell_type": "markdown",
   "metadata": {},
   "source": [
    "**$$Hoja Nro. 1:$$**\n",
    "<img src=\"./max_planic_hoja1.jpeg\" width = \"500\">"
   ]
  },
  {
   "cell_type": "markdown",
   "metadata": {},
   "source": [
    "\n",
    "\n"
   ]
  },
  {
   "cell_type": "markdown",
   "metadata": {},
   "source": [
    "**$$ Hoja Nro. 2:$$**\n",
    "<img src='./max_planic_hoja2.jpeg' width = \"500\">"
   ]
  },
  {
   "cell_type": "markdown",
   "metadata": {},
   "source": []
  },
  {
   "cell_type": "markdown",
   "metadata": {},
   "source": [
    "* #### *Como se Observa en las Imágenes de Arriba, la Transferencia Pasa-Bajos de Máxima Planicidad Obtenida es:*\n",
    "\n",
    "$$T_{LP_N}($) = \\frac{1}{$ + 1} \\ast \\frac{1}{$^2 + $ + 1} = \\frac{1}{$^3 + 2$^2 + 2$ + 1}$$"
   ]
  },
  {
   "cell_type": "markdown",
   "metadata": {},
   "source": [
    "#### *Conclusiones:*\n",
    "* *Para poder Diseñar este Filtro Pasa-Bajos voy a Necesitar 2 Secciones en Total: Una sección va a ser de 2do Orden y la otra sección va a ser de 1er Orden ==> RTA:* **NO** *se Puede Diseñar el Filtro para la Plantilla Pedida con 1 sola Sección de Segundo Orden.*\n",
    "\n",
    "* *Voy a Necesitar al Menos 2 Etapas.*\n",
    "\n",
    "* *El Epsilon y el Orden del Filtro calculado coincide con el Valor Obtenido en Python.*\n",
    "\n",
    "* *La Función Transferencia Calculada coincide con la Función Transferencia que devuelve Python.*"
   ]
  },
  {
   "cell_type": "markdown",
   "metadata": {},
   "source": [
    "# ---------------------------------------------------------------------------------------------------------------\n",
    "# ---------------------------------------------------------------------------------------------------------------\n",
    "\n",
    "\n"
   ]
  },
  {
   "cell_type": "markdown",
   "metadata": {},
   "source": [
    "# b) Filtro Pasa-Bajos Chebyshev:"
   ]
  },
  {
   "cell_type": "markdown",
   "metadata": {},
   "source": []
  },
  {
   "cell_type": "code",
   "execution_count": 13,
   "metadata": {},
   "outputs": [
    {
     "name": "stdout",
     "output_type": "stream",
     "text": [
      "El valor del epsilon obtenido es:  0.5088471399095875\n",
      "\n",
      "El Orden del Filtro es:  2.0\n"
     ]
    }
   ],
   "source": [
    "# Cálculo y Valores Obtenidos de la Plantilla Solicitada para Chebyshev:\n",
    "\n",
    "# Orden del Filtro\n",
    "N = np.arccosh ( np.sqrt (10**(a_min/10)/eps**2)) /  np.arccosh(ws_prima)  \n",
    "N = np.ceil ( N ) # Redondeo para Arriba\n",
    "\n",
    "print (\"El valor del epsilon obtenido es: \", eps)\n",
    "print (\"\\nEl Orden del Filtro es: \", N)\n"
   ]
  },
  {
   "cell_type": "markdown",
   "metadata": {},
   "source": []
  },
  {
   "cell_type": "markdown",
   "metadata": {},
   "source": [
    "* *Como era de Esperarse el epsilon calculado en el Diseño del Filtro de Máxima Planicidad **COINCIDE** con el epsilon calculado en el Filtro de Chebyshev.*\n",
    "\n",
    "* *Se Comprueba que un Filtro Chebyshev implica un **Orden Menor** que un Filtro Butterworth o Máxima Planicidad para los mismos requerimientos de Plantilla.*"
   ]
  },
  {
   "cell_type": "markdown",
   "metadata": {},
   "source": []
  },
  {
   "cell_type": "markdown",
   "metadata": {},
   "source": [
    "### **Transferencia Normalizada Obtenida a partir de los cálculos realizados usando la  Aproximación de Chebyshev:**\n"
   ]
  },
  {
   "cell_type": "markdown",
   "metadata": {},
   "source": [
    "$$T_{LP_N}($) = \\frac{1}{1.018$^2 + 1.117$ + 1.122}$$\n",
    "\n",
    "\n",
    "\n",
    "\n",
    "\n"
   ]
  },
  {
   "cell_type": "markdown",
   "metadata": {},
   "source": []
  },
  {
   "cell_type": "markdown",
   "metadata": {},
   "source": [
    "* *Sabemos que la **Forma Canónica y Parametrizada** de cualquier Transferencia de 2do Orden Normalizada Pasa-Bajos es:*\n",
    "\n",
    "$$T_{LP}($) = K * \\frac{\\omega_0^2}{$^2 + \\frac{\\omega_0}{Q}$ + \\omega_0^2}$$"
   ]
  },
  {
   "cell_type": "markdown",
   "metadata": {},
   "source": []
  },
  {
   "cell_type": "markdown",
   "metadata": {},
   "source": [
    "## ----------------------------------------------------------------------------------------------------------------------------------"
   ]
  },
  {
   "cell_type": "markdown",
   "metadata": {},
   "source": [
    "* ###  *Sacando \"Factor Común\" y Dejando como 1 el Coeficiente del Término Cuadrático del Denominador Obtengo:*\n",
    "\n",
    "$$T_{LP1_N}($) = \\frac{0.982}{$^2 + 1.097$ + 1.102}$$\n",
    "\n",
    "\n",
    "*Observamos que el Coeficiente del Numerador se obtuvo a partir de la Siguiente División:* $$\\frac{1}{1.018} = 0.982$$\n",
    "\n",
    "\n",
    "*De esta forma la Transferencia Normalizada NO queda de Forma Canónica:* \n",
    "\n",
    "\n",
    "$$|T(0)| = \\frac{0.982}{1.102} = 0.891 = K ==> K \\neq |T(0)| \\neq \\frac{w0i^2}{w0i^2} \\neq 1$$\n",
    "\n"
   ]
  },
  {
   "cell_type": "markdown",
   "metadata": {},
   "source": []
  },
  {
   "cell_type": "code",
   "execution_count": 49,
   "metadata": {},
   "outputs": [],
   "source": [
    "# Obtengo los Ceros, Polos y K (Ganancia) de mi Diseño:\n",
    "z1 = np.array ( [] )\n",
    "p1 = np.roots ( [1, 1.097, 1.102] )\n",
    "k1 = 0.982\n",
    "\n",
    "# Transferencia de mi Filtro:\n",
    "NUM1, DEN1 = sig.zpk2tf ( z1, p1, k1 )\n",
    "my_tf1 = tf (NUM1, DEN1)"
   ]
  },
  {
   "cell_type": "code",
   "execution_count": 50,
   "metadata": {},
   "outputs": [
    {
     "data": {
      "text/plain": [
       "(array([], dtype=float64),\n",
       " array([-0.5485+0.89506857j, -0.5485-0.89506857j]),\n",
       " 0.982)"
      ]
     },
     "execution_count": 50,
     "metadata": {},
     "output_type": "execute_result"
    }
   ],
   "source": [
    "# Muestro los Resultados de Ceros, Polos, Ganancia y Transferencia Normalizada Obtenidos:\n",
    "z1, p1, k1"
   ]
  },
  {
   "cell_type": "code",
   "execution_count": 52,
   "metadata": {},
   "outputs": [
    {
     "data": {
      "text/plain": [
       "TransferFunctionContinuous(\n",
       "array([0.982]),\n",
       "array([1.   , 1.097, 1.102]),\n",
       "dt: None\n",
       ")"
      ]
     },
     "execution_count": 52,
     "metadata": {},
     "output_type": "execute_result"
    }
   ],
   "source": [
    "# Transferencia Normalizada Obtenida:\n",
    "my_tf1"
   ]
  },
  {
   "cell_type": "code",
   "execution_count": 53,
   "metadata": {},
   "outputs": [
    {
     "data": {
      "text/plain": [
       "0.9569388129087119"
      ]
     },
     "execution_count": 53,
     "metadata": {},
     "output_type": "execute_result"
    }
   ],
   "source": [
    "# Factor de Selectividad o Mérito Q:\n",
    "qq1 = np.sqrt (DEN1[2]) / DEN1[1]\n",
    "qq1"
   ]
  },
  {
   "cell_type": "code",
   "execution_count": 54,
   "metadata": {},
   "outputs": [
    {
     "data": {
      "text/plain": [
       "(1,\n",
       " array([<matplotlib.axes._subplots.AxesSubplot object at 0x000002A20241BAC8>,\n",
       "        <matplotlib.axes._subplots.AxesSubplot object at 0x000002A20244A548>],\n",
       "       dtype=object))"
      ]
     },
     "execution_count": 54,
     "metadata": {},
     "output_type": "execute_result"
    },
    {
     "data": {
      "image/png": "[encoded data removed]",
      "text/plain": [
       "<Figure size 432x288 with 2 Axes>"
      ]
     },
     "metadata": {
      "needs_background": "light"
     },
     "output_type": "display_data"
    }
   ],
   "source": [
    "# Respuesta de Módulo y Fase:\n",
    "bodePlot(my_tf1)"
   ]
  },
  {
   "cell_type": "markdown",
   "metadata": {},
   "source": []
  },
  {
   "cell_type": "code",
   "execution_count": 55,
   "metadata": {},
   "outputs": [
    {
     "data": {
      "text/plain": [
       "(1, <matplotlib.axes._subplots.AxesSubplot at 0x2a2025c9a08>)"
      ]
     },
     "execution_count": 55,
     "metadata": {},
     "output_type": "execute_result"
    },
    {
     "data": {
      "image/png": "[encoded data removed]",
      "text/plain": [
       "<Figure size 432x288 with 1 Axes>"
      ]
     },
     "metadata": {
      "needs_background": "light"
     },
     "output_type": "display_data"
    }
   ],
   "source": [
    "# Diagrama de Polos y Ceros:\n",
    "pzmap (my_tf1)"
   ]
  },
  {
   "cell_type": "markdown",
   "metadata": {},
   "source": []
  },
  {
   "cell_type": "markdown",
   "metadata": {},
   "source": [
    "### c) Síntesis y Simulación del Filtro ChebyShev Calculado:"
   ]
  },
  {
   "cell_type": "markdown",
   "metadata": {},
   "source": []
  },
  {
   "cell_type": "markdown",
   "metadata": {},
   "source": [
    "* *El diseño del Filtro Pedido se realiza mediante la Estructura **Ackenberg Mossberg** tomando como la Salida Pasa-Bajos.*\n",
    "\n",
    "\n",
    "* *La Transferencia LP de dicha Estructura es la Siguiente:*\n",
    "\n",
    "\n",
    "$$T_{LP_{ACKMOSS}}($) = \\frac{-K}{R.R1.C^2} * \\frac{1}{$^2 + \\frac{1}{Q.R.C}$ + \\frac{1}{R1^2.C^2}}$$"
   ]
  },
  {
   "cell_type": "markdown",
   "metadata": {},
   "source": []
  },
  {
   "cell_type": "markdown",
   "metadata": {},
   "source": [
    "### $$Circuito:$$\n",
    "<img src='./Ejercicio_Chebyshev_circuito.jpg' width = \"800\">"
   ]
  },
  {
   "cell_type": "markdown",
   "metadata": {},
   "source": []
  },
  {
   "cell_type": "markdown",
   "metadata": {},
   "source": [
    "### $$Simulación:$$\n",
    "<img src='./Ejercicio_Chebyshev_simulacion.jpg' width = \"1000\">"
   ]
  },
  {
   "cell_type": "markdown",
   "metadata": {},
   "source": []
  },
  {
   "cell_type": "markdown",
   "metadata": {},
   "source": [
    "* **Link para descargar el archivo que contiene el circuito para realizar la Simulación en LTSpice (.asc)  :**\n",
    "[Ejercicio_Chebyshev.zip](https://github.com/eotorresmolina/UTN-FRBA/blob/master/TCII/Desafio/Ejercicio_Chebyshev.zip?raw=true)"
   ]
  },
  {
   "cell_type": "markdown",
   "metadata": {},
   "source": []
  },
  {
   "cell_type": "markdown",
   "metadata": {},
   "source": [
    "# ---------------------------------------------------------------------------------------------------------------"
   ]
  },
  {
   "cell_type": "markdown",
   "metadata": {},
   "source": [
    "### Conclusiones de la Simulación Pasa-Bajos Chebyshev Obtenidas:"
   ]
  },
  {
   "cell_type": "markdown",
   "metadata": {},
   "source": [
    "* *Se Observa que en la Simulación entrega un Filtro LP con una pequeña atenuación en la banda de paso que es de aprox. 1 dB (el módulo vale -1dB), se puede observar que se cumplen los requerimientos obtenidos, tanto para fp como para fs (en fs atenúa más de lo pedido).*\n",
    "\n",
    "\n",
    "* *De lo dicho arriba podemos concluir, que al ser el Orden Par (N=2) observamos que el Filtro Comienza en un valor Igual a:*\n",
    "\n",
    "\n",
    "$$10*log_{10}({\\frac{1}{1+\\epsilon^2}})$$\n",
    "\n",
    "*Donde reemplazando el valor de epsilon obtenido, el módulo vale -1dB, que es justamente lo esperado, y por lo tanto, también dicho filtro pasa para el valor de fp en -1dB*\n",
    "\n",
    "\n",
    "* *Finalmente como también es esperado, el filtro posee oscilaciones ecualizadas, 2 Toques (1 mínimo y 1 Máximo) y N-1 = 2 - 1 = 1 oscilaciones.*\n"
   ]
  }
 ],
 "metadata": {
  "kernelspec": {
   "display_name": "Python 3",
   "language": "python",
   "name": "python3"
  },
  "language_info": {
   "codemirror_mode": {
    "name": "ipython",
    "version": 3
   },
   "file_extension": ".py",
   "mimetype": "text/x-python",
   "name": "python",
   "nbconvert_exporter": "python",
   "pygments_lexer": "ipython3",
   "version": "3.7.7"
  },
  "latex_envs": {
   "LaTeX_envs_menu_present": true,
   "autoclose": false,
   "autocomplete": true,
   "bibliofile": "biblio.bib",
   "cite_by": "apalike",
   "current_citInitial": 1,
   "eqLabelWithNumbers": true,
   "eqNumInitial": 1,
   "hotkeys": {
    "equation": "Ctrl-E",
    "itemize": "Ctrl-I"
   },
   "labels_anchors": false,
   "latex_user_defs": false,
   "report_style_numbering": false,
   "user_envs_cfg": true
  }
 },
 "nbformat": 4,
 "nbformat_minor": 4
}
