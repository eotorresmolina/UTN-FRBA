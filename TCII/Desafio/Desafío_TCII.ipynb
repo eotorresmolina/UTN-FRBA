{
 "cells": [
  {
   "cell_type": "markdown",
   "metadata": {},
   "source": [
    "<img src=\"./logo_utn_frba.jpg\" width=\"500\">"
   ]
  },
  {
   "cell_type": "markdown",
   "metadata": {},
   "source": [
    "### ***Teoría de los Circuitos II***\n",
    "#### Torres Molina Emmanuel\n",
    "#### **Legajo:** 146568-5"
   ]
  },
  {
   "cell_type": "markdown",
   "metadata": {},
   "source": [
    " ##  Desafío Filtro Pasa-Bajos:"
   ]
  },
  {
   "cell_type": "markdown",
   "metadata": {},
   "source": [
    "1) *Diseñar un Filtro Pasa-Bajos cuyos Requerimientos son:*\n",
    "\n",
    "$$fp = 500 Hz$$\n",
    "\n",
    "$$fs = 1500 Hz$$\n",
    "\n",
    "$$\\alpha_{máx} = 1dB$$\n",
    "\n",
    "$$\\alpha_{mín} = 1dB$$"
   ]
  },
  {
   "cell_type": "markdown",
   "metadata": {},
   "source": [
    "# Respuestas al Desafío:"
   ]
  },
  {
   "cell_type": "code",
   "execution_count": 40,
   "metadata": {},
   "outputs": [],
   "source": [
    "# Paquetes y Módulos que Utilizo de Python en Jupyter\n",
    "\n",
    "# Para que los Gráficos me los realice en el notebook\n",
    "%matplotlib inline \n",
    "\n",
    "from scipy.signal import TransferFunction as tf\n",
    "import scipy.signal as sig\n",
    "from splane import bodePlot, pzmap\n",
    "import numpy as np\n",
    "\n",
    "# Plantilla de Requerimientos:\n",
    "a_max = 1 # Atenuación Máxima en la Banda de Paso [dB]\n",
    "a_min = 18 # Atenuación mínima en la Banda de Stop [dB]\n",
    "\n",
    "# Frecuencias y Pulsaciones Angulares:\n",
    "fp = 500         # [Hz]\n",
    "fs = 1500        # [Hz]\n",
    "wp = 2 * np.pi * fp       # [rad/seg]\n",
    "ws = 2 * np.pi * fs       # [rad/seg]\n",
    "\n",
    "# Valores Normalizados\n",
    "wp_prima = wp / wp\n",
    "ws_prima = ws / wp\n",
    "\n",
    "# Calculo del epsilon\n",
    "eps = np.sqrt (10 ** (a_max/10) - 1) #Ripple "
   ]
  },
  {
   "cell_type": "markdown",
   "metadata": {},
   "source": []
  },
  {
   "cell_type": "markdown",
   "metadata": {},
   "source": [
    "# a) Filtro Pasa-Bajos Máxima Planicidad:"
   ]
  },
  {
   "cell_type": "code",
   "execution_count": 27,
   "metadata": {
    "scrolled": true
   },
   "outputs": [
    {
     "name": "stdout",
     "output_type": "stream",
     "text": [
      "El valor del epsilon obtenido es:  0.5088471399095875\n",
      "\n",
      "El Orden del Filtro es:  3.0\n",
      "\n",
      "wb =  1.2525763881810263\n"
     ]
    }
   ],
   "source": [
    "# Cálculo y Valores Obtenidos de la Plantilla Solicitada para Máxima Planicidad:\n",
    "\n",
    "# Orden del Filtro\n",
    "N = np.log10 (((10 ** (a_min/10) - 1) / eps**2)) / (2 * np.log10 (ws_prima))\n",
    "N = np.ceil ( N ) # Redondeo para Arriba\n",
    "\n",
    "wb = eps**( -1 / N ) * wp_prima # Cálculo del Wb.\n",
    "\n",
    "print (\"El valor del epsilon obtenido es: \", eps)\n",
    "print (\"\\nEl Orden del Filtro es: \", N)\n",
    "print (\"\\nwb = \", wb)\n"
   ]
  },
  {
   "cell_type": "markdown",
   "metadata": {},
   "source": []
  },
  {
   "cell_type": "code",
   "execution_count": 26,
   "metadata": {},
   "outputs": [
    {
     "data": {
      "text/plain": [
       "(array([], dtype=float64),\n",
       " array([-0.5+0.8660254j, -1. -0.j       , -0.5-0.8660254j]),\n",
       " 1)"
      ]
     },
     "execution_count": 26,
     "metadata": {},
     "output_type": "execute_result"
    }
   ],
   "source": [
    "# Cálculo de la Transferencia Normalizada Usando las Herramientas y Métodos encapsulados dentro del Paquete Signal de Scipy:\n",
    "\n",
    "z, p, k = sig.buttap(N) # Me Devuelve los Ceros, Polos y Ganancia para el Orden Especificado.\n",
    "z, p, k"
   ]
  },
  {
   "cell_type": "code",
   "execution_count": 9,
   "metadata": {},
   "outputs": [
    {
     "data": {
      "text/plain": [
       "(array([1.]), array([1., 2., 2., 1.]))"
      ]
     },
     "execution_count": 9,
     "metadata": {},
     "output_type": "execute_result"
    }
   ],
   "source": [
    "# Numerador y Denominador de mi Transferencia Normalizada:\n",
    "NUM, DEN = sig.zpk2tf ( z, p, k )\n",
    "NUM, DEN"
   ]
  },
  {
   "cell_type": "code",
   "execution_count": 32,
   "metadata": {},
   "outputs": [
    {
     "data": {
      "text/plain": [
       "TransferFunctionContinuous(\n",
       "array([7.58993378]),\n",
       "array([1.        , 3.93045346, 7.72423219, 7.58993378]),\n",
       "dt: None\n",
       ")"
      ]
     },
     "execution_count": 32,
     "metadata": {},
     "output_type": "execute_result"
    }
   ],
   "source": [
    "# Transferencia Normalizada de Butterworth:\n",
    "my_tf_bw = tf (NUM, DEN)\n",
    "my_tf_bw"
   ]
  },
  {
   "cell_type": "code",
   "execution_count": 31,
   "metadata": {},
   "outputs": [],
   "source": [
    "# Si estamos en un Caso de un Filtro Butterworth Puro (eps = 1) No hace Falta Descomentar.\n",
    "\n",
    "# Suponiendo que se hay hecho una Renormalización a Nivel de Frecuencia: Norma: wb\n",
    "# Sirve únicamente cuando eps != 1 o a_max != 3 [dB] ==> Caso Máxima Planicidad\n",
    "# Descomentar las líneas de abajo sólo si se quiere Desnormalizar, y Realizar un Ploteo del \n",
    "# Módulo y la Fase de la Transferencia Normalizada y el Diagrama de Polos y Ceros. \n",
    "\n",
    "#NUM, DEN = sig.lp2lp (NUM, DEN, wb)\n",
    "\n",
    "#wb, NUM, DEN"
   ]
  },
  {
   "cell_type": "code",
   "execution_count": 34,
   "metadata": {},
   "outputs": [],
   "source": [
    "#my_tf_mp = tf (NUM, DEN)\n",
    "#my_tf_mp"
   ]
  },
  {
   "cell_type": "code",
   "execution_count": 33,
   "metadata": {},
   "outputs": [],
   "source": [
    "#bodePlot ( my_tf_mp )\n",
    "#pzmap ( my_tf_mp )"
   ]
  },
  {
   "cell_type": "markdown",
   "metadata": {},
   "source": []
  },
  {
   "cell_type": "markdown",
   "metadata": {},
   "source": [
    "\n",
    "\n",
    "##### **Imágenes Correspondientes a la Resolución del Ejercicio:**"
   ]
  },
  {
   "cell_type": "markdown",
   "metadata": {},
   "source": [
    "**$$Hoja Nro. 1:$$**\n",
    "<img src=\"./max_planic_hoja1.jpeg\" width = \"500\">"
   ]
  },
  {
   "cell_type": "markdown",
   "metadata": {},
   "source": [
    "\n",
    "\n"
   ]
  },
  {
   "cell_type": "markdown",
   "metadata": {},
   "source": [
    "**$$ Hoja Nro. 2:$$**\n",
    "<img src='./max_planic_hoja2.jpeg' width = \"500\">"
   ]
  },
  {
   "cell_type": "markdown",
   "metadata": {},
   "source": []
  },
  {
   "cell_type": "markdown",
   "metadata": {},
   "source": [
    "#### *Como se Observa en las Imágenes de Arriba, la Transferencia Pasa-Bajos de Máxima Planicidad Obtenida es:*\n",
    "\n",
    "$$$T_{LP_N}($) = \\frac{1}{$ + 1} \\ast \\frac{1}{$^2 + $ + 1} = \\frac{1}{$^3 + 2$^2 + 2$ + 1}$$"
   ]
  },
  {
   "cell_type": "markdown",
   "metadata": {},
   "source": [
    "#### *Conclusiones:*\n",
    "* *Para poder Diseñar este Filtro Pasa-Bajos voy a Necesitar 2 Secciones en Total: Una sección va a ser de 2do Orden y la otra sección va a ser de 1er Orden ==> RTA:* **NO** *se Puede Diseñar el Filtro para la Plantilla Pedida con 1 sola Sección de Segundo Orden.*\n",
    "\n",
    "* *Voy a Necesitar al Menos 2 Etapas.*\n",
    "\n",
    "* *El Epsilon y el Orden del Filtro calculado coincide con el Valor Obtenido en Python.*\n",
    "\n",
    "* *La Función Transferencia Calculada coincide con la Función Transferencia que devuelve Python.*"
   ]
  },
  {
   "cell_type": "markdown",
   "metadata": {},
   "source": [
    "# ---------------------------------------------------------------------------------------------------------------\n",
    "# ---------------------------------------------------------------------------------------------------------------\n",
    "\n",
    "\n"
   ]
  },
  {
   "cell_type": "markdown",
   "metadata": {},
   "source": [
    "# b) Filtro Pasa-Bajos Chebyshev:"
   ]
  },
  {
   "cell_type": "markdown",
   "metadata": {},
   "source": []
  },
  {
   "cell_type": "code",
   "execution_count": 6,
   "metadata": {},
   "outputs": [
    {
     "name": "stdout",
     "output_type": "stream",
     "text": [
      "El valor del epsilon obtenido es:  0.5088471399095875\n",
      "\n",
      "El Orden del Filtro es:  2.0\n"
     ]
    }
   ],
   "source": [
    "# Cálculo y Valores Obtenidos de la Plantilla Solicitada para Chebyshev:\n",
    "\n",
    "# Orden del Filtro\n",
    "N = np.arccosh ( np.sqrt (10**(a_min/10)/eps**2)) /  np.arccosh(ws_prima)  \n",
    "N = np.ceil ( N ) # Redondeo para Arriba\n",
    "\n",
    "print (\"El valor del epsilon obtenido es: \", eps)\n",
    "print (\"\\nEl Orden del Filtro es: \", N)\n"
   ]
  },
  {
   "cell_type": "markdown",
   "metadata": {},
   "source": []
  },
  {
   "cell_type": "markdown",
   "metadata": {},
   "source": [
    "*Como era de Esperarse el epsilon calculado en el Diseño del Filtro de Máxima Planicidad **COINCIDE** con el epsilon calculado en el Filtro de Chebyshev.*"
   ]
  },
  {
   "cell_type": "markdown",
   "metadata": {},
   "source": []
  },
  {
   "cell_type": "markdown",
   "metadata": {},
   "source": [
    "### **Voy a Plantear 2 Casos de la Transferencia Normalizada Obtenida a partir de los cálculos realizados usando la  Aproximación de Chebyshev:**\n"
   ]
  },
  {
   "cell_type": "markdown",
   "metadata": {},
   "source": [
    "$$T_{LP_N}($) = \\frac{1}{1.018$^2 + 1.117$ + 1.122}$$\n",
    "\n",
    "\n",
    "\n",
    "\n",
    "\n"
   ]
  },
  {
   "cell_type": "markdown",
   "metadata": {},
   "source": []
  },
  {
   "cell_type": "markdown",
   "metadata": {},
   "source": [
    "## ----------------------------------------------------------------------------------------------------------------------------------"
   ]
  },
  {
   "cell_type": "markdown",
   "metadata": {},
   "source": [
    "### # *Caso 1): Sacando \"Factor Común\" y Dejando como 1 el Coeficiente del Término Cuadrático del Denominador Obtengo:*\n",
    "\n",
    "$$T_{LP1_N}($) = \\frac{0.982}{$^2 + 1.097$ + 1.102}$$\n",
    "\n",
    "\n",
    "*Observamos que el Coeficiente del Numerador se obtuvo a partir de la Siguiente División:* $$\\frac{1}{1.018} = 0.982$$\n",
    "\n",
    "\n",
    "*De esta forma la Transferencia Normalizada NO queda de Forma Canónica:* \n",
    "$$|T(0)| = \\frac{0.982}{1.102} = 0.891 = K ==> K \\neq |T(0)| \\neq \\frac{w0i^2}{w0i^2} \\neq 1$$"
   ]
  },
  {
   "cell_type": "markdown",
   "metadata": {},
   "source": []
  },
  {
   "cell_type": "code",
   "execution_count": 49,
   "metadata": {},
   "outputs": [],
   "source": [
    "# Obtengo los Ceros, Polos y K (Ganancia) de mi Diseño:\n",
    "z1 = np.array ( [] )\n",
    "p1 = np.roots ( [1, 1.097, 1.102] )\n",
    "k1 = 0.982\n",
    "\n",
    "# Transferencia de mi Filtro:\n",
    "NUM1, DEN1 = sig.zpk2tf ( z1, p1, k1 )\n",
    "my_tf1 = tf (NUM1, DEN1)"
   ]
  },
  {
   "cell_type": "code",
   "execution_count": 50,
   "metadata": {},
   "outputs": [
    {
     "data": {
      "text/plain": [
       "(array([], dtype=float64),\n",
       " array([-0.5485+0.89506857j, -0.5485-0.89506857j]),\n",
       " 0.982)"
      ]
     },
     "execution_count": 50,
     "metadata": {},
     "output_type": "execute_result"
    }
   ],
   "source": [
    "# Muestro los Resultados de Ceros, Polos, Ganancia y Transferencia Normalizada Obtenidos:\n",
    "z1, p1, k1"
   ]
  },
  {
   "cell_type": "code",
   "execution_count": 52,
   "metadata": {},
   "outputs": [
    {
     "data": {
      "text/plain": [
       "TransferFunctionContinuous(\n",
       "array([0.982]),\n",
       "array([1.   , 1.097, 1.102]),\n",
       "dt: None\n",
       ")"
      ]
     },
     "execution_count": 52,
     "metadata": {},
     "output_type": "execute_result"
    }
   ],
   "source": [
    "# Transferencia Normalizada Obtenida:\n",
    "my_tf1"
   ]
  },
  {
   "cell_type": "code",
   "execution_count": 53,
   "metadata": {},
   "outputs": [
    {
     "data": {
      "text/plain": [
       "0.9569388129087119"
      ]
     },
     "execution_count": 53,
     "metadata": {},
     "output_type": "execute_result"
    }
   ],
   "source": [
    "# Factor de Selectividad o Mérito Q:\n",
    "qq1 = np.sqrt (DEN1[2]) / DEN1[1]\n",
    "qq1"
   ]
  },
  {
   "cell_type": "code",
   "execution_count": 54,
   "metadata": {},
   "outputs": [
    {
     "data": {
      "text/plain": [
       "(1,\n",
       " array([<matplotlib.axes._subplots.AxesSubplot object at 0x000002A20241BAC8>,\n",
       "        <matplotlib.axes._subplots.AxesSubplot object at 0x000002A20244A548>],\n",
       "       dtype=object))"
      ]
     },
     "execution_count": 54,
     "metadata": {},
     "output_type": "execute_result"
    },
    {
     "data": {
      "image/png": "[encoded data removed]",
      "text/plain": [
       "<Figure size 432x288 with 2 Axes>"
      ]
     },
     "metadata": {
      "needs_background": "light"
     },
     "output_type": "display_data"
    }
   ],
   "source": [
    "# Respuesta de Módulo y Fase:\n",
    "bodePlot(my_tf1)"
   ]
  },
  {
   "cell_type": "markdown",
   "metadata": {},
   "source": []
  },
  {
   "cell_type": "code",
   "execution_count": 55,
   "metadata": {},
   "outputs": [
    {
     "data": {
      "text/plain": [
       "(1, <matplotlib.axes._subplots.AxesSubplot at 0x2a2025c9a08>)"
      ]
     },
     "execution_count": 55,
     "metadata": {},
     "output_type": "execute_result"
    },
    {
     "data": {
      "image/png": "[encoded data removed]",
      "text/plain": [
       "<Figure size 432x288 with 1 Axes>"
      ]
     },
     "metadata": {
      "needs_background": "light"
     },
     "output_type": "display_data"
    }
   ],
   "source": [
    "# Diagrama de Polos y Ceros:\n",
    "pzmap (my_tf1)"
   ]
  },
  {
   "cell_type": "markdown",
   "metadata": {},
   "source": []
  },
  {
   "cell_type": "markdown",
   "metadata": {},
   "source": [
    "### c) Síntesis y Simulación del Filtro ChebyShev Calculado:"
   ]
  },
  {
   "cell_type": "markdown",
   "metadata": {},
   "source": []
  },
  {
   "cell_type": "markdown",
   "metadata": {},
   "source": [
    "### $$Circuito:$$\n",
    "<img src='./Ejercicio_Chebyshev_circuito_forma_no_canonica.jpg' width = \"800\">"
   ]
  },
  {
   "cell_type": "markdown",
   "metadata": {},
   "source": []
  },
  {
   "cell_type": "markdown",
   "metadata": {},
   "source": [
    "### $$Simulación:$$\n",
    "<img src='./Ejercicio_Chebyshev_forma_no_canonica.jpg' width = \"1000\">"
   ]
  },
  {
   "cell_type": "markdown",
   "metadata": {},
   "source": []
  },
  {
   "cell_type": "markdown",
   "metadata": {},
   "source": [
    "**Link para descargar el archivo que contiene el circuito para realizar la Simulación de la Forma NO Canónica en LTSpice (.asc)  :**\n",
    "[Ejercicio_Chebyshev_forma_no_canonica.zip](https://github.com/eotorresmolina/UTN-FRBA/blob/master/TCII/Desafio/Ejercicio_Chebyshev_forma_no_canonica.zip?raw=true)"
   ]
  },
  {
   "cell_type": "markdown",
   "metadata": {},
   "source": []
  },
  {
   "cell_type": "markdown",
   "metadata": {},
   "source": [
    "## ----------------------------------------------------------------------------------------------------------------------------------"
   ]
  },
  {
   "cell_type": "markdown",
   "metadata": {},
   "source": [
    "### # *Caso 2): Asigno al Coeficiente del Numerador el valor: '1.122' y, Sacando \"Factor Común\" y Dejando el Coeficiente del Término Cuadrático del Denominador Obtengo:*\n",
    "\n",
    "$$T_{LP2_N}($) = \\frac{1.102}{$^2 + 1.097$ + 1.102}$$\n",
    "\n",
    "\n",
    "*Observamos que el Coeficiente del Numerador se obtuvo a partir de la Siguiente División:* $$\\frac{1.122}{1.018} = 1.102$$\n",
    "\n",
    "\n",
    "*De esta forma la Transferencia Normalizada SI queda de Forma Canónica:* \n",
    "$$|T(0)| = \\frac{1.102}{1.102} = 1 = K ==> K = |T(0)| = \\frac{w0i^2}{w0i^2} = 1$$"
   ]
  },
  {
   "cell_type": "markdown",
   "metadata": {},
   "source": []
  },
  {
   "cell_type": "code",
   "execution_count": 38,
   "metadata": {},
   "outputs": [],
   "source": [
    "# Obtengo los Ceros, Polos y K (Ganancia) de mi Diseño:\n",
    "z2 = np.array ( [] )\n",
    "p2 = np.roots ( [1, 1.097, 1.102] )\n",
    "k2 = 1.102\n",
    "\n",
    "# Transferencia de mi Filtro:\n",
    "NUM2, DEN2 = sig.zpk2tf ( z2, p2, k2 )\n",
    "my_tf2 = tf (NUM2, DEN2)"
   ]
  },
  {
   "cell_type": "code",
   "execution_count": 45,
   "metadata": {},
   "outputs": [
    {
     "data": {
      "text/plain": [
       "(array([], dtype=float64),\n",
       " array([-0.5485+0.89506857j, -0.5485-0.89506857j]),\n",
       " 1.102)"
      ]
     },
     "execution_count": 45,
     "metadata": {},
     "output_type": "execute_result"
    }
   ],
   "source": [
    "# Muestro los Resultados de Ceros, Polos, Ganancia y Transferencia Normalizada Obtenidos:\n",
    "z2, p2, k2"
   ]
  },
  {
   "cell_type": "code",
   "execution_count": 44,
   "metadata": {},
   "outputs": [
    {
     "data": {
      "text/plain": [
       "TransferFunctionContinuous(\n",
       "array([1.102]),\n",
       "array([1.   , 1.097, 1.102]),\n",
       "dt: None\n",
       ")"
      ]
     },
     "execution_count": 44,
     "metadata": {},
     "output_type": "execute_result"
    }
   ],
   "source": [
    "# Transferencia Normalizada Obtenida:\n",
    "my_tf2"
   ]
  },
  {
   "cell_type": "code",
   "execution_count": 41,
   "metadata": {},
   "outputs": [
    {
     "data": {
      "text/plain": [
       "0.9569388129087119"
      ]
     },
     "execution_count": 41,
     "metadata": {},
     "output_type": "execute_result"
    }
   ],
   "source": [
    "# Factor de Selectividad o Mérito Q:\n",
    "qq2 = np.sqrt (DEN2[2]) / DEN2[1]\n",
    "qq2"
   ]
  },
  {
   "cell_type": "code",
   "execution_count": 42,
   "metadata": {
    "scrolled": true
   },
   "outputs": [
    {
     "data": {
      "text/plain": [
       "(1,\n",
       " array([<matplotlib.axes._subplots.AxesSubplot object at 0x000002A202138C48>,\n",
       "        <matplotlib.axes._subplots.AxesSubplot object at 0x000002A202240E88>],\n",
       "       dtype=object))"
      ]
     },
     "execution_count": 42,
     "metadata": {},
     "output_type": "execute_result"
    },
    {
     "data": {
      "image/png": "[encoded data removed]",
      "text/plain": [
       "<Figure size 432x288 with 2 Axes>"
      ]
     },
     "metadata": {
      "needs_background": "light"
     },
     "output_type": "display_data"
    }
   ],
   "source": [
    "# Respuesta de Módulo y Fase:\n",
    "bodePlot(my_tf2)"
   ]
  },
  {
   "cell_type": "markdown",
   "metadata": {},
   "source": []
  },
  {
   "cell_type": "code",
   "execution_count": 56,
   "metadata": {},
   "outputs": [
    {
     "data": {
      "text/plain": [
       "(1, <matplotlib.axes._subplots.AxesSubplot at 0x2a203644dc8>)"
      ]
     },
     "execution_count": 56,
     "metadata": {},
     "output_type": "execute_result"
    },
    {
     "data": {
      "image/png": "[encoded data removed]",
      "text/plain": [
       "<Figure size 432x288 with 1 Axes>"
      ]
     },
     "metadata": {
      "needs_background": "light"
     },
     "output_type": "display_data"
    }
   ],
   "source": [
    "# Diagrama de Polos y Ceros:\n",
    "pzmap (my_tf2)"
   ]
  },
  {
   "cell_type": "markdown",
   "metadata": {},
   "source": []
  },
  {
   "cell_type": "markdown",
   "metadata": {},
   "source": [
    "### c) Síntesis y Simulación del Filtro ChebyShev Calculado:"
   ]
  },
  {
   "cell_type": "markdown",
   "metadata": {},
   "source": []
  },
  {
   "cell_type": "markdown",
   "metadata": {},
   "source": [
    "### $$Circuito:$$\n",
    "<img src='./Ejercicio_Chebyshev_circuito_forma_canonica.jpg' width = \"800\">"
   ]
  },
  {
   "cell_type": "markdown",
   "metadata": {},
   "source": []
  },
  {
   "cell_type": "markdown",
   "metadata": {},
   "source": [
    "### $$Simulación:$$\n",
    "<img src='./Ejercicio_Chebyshev_forma_canonica.jpg' width = \"1000\">"
   ]
  },
  {
   "cell_type": "markdown",
   "metadata": {},
   "source": []
  },
  {
   "cell_type": "markdown",
   "metadata": {},
   "source": [
    "**Link para descargar el archivo que contiene el circuito para realizar la Simulación de la Forma Canónica en LTSpice (.asc)  :**\n",
    "[Ejercicio_Chebyshev_forma_canonica.zip](https://github.com/eotorresmolina/UTN-FRBA/blob/master/TCII/Desafio/Ejercicio_Chebyshev_forma_canonica.zip?raw=true)"
   ]
  }
 ],
 "metadata": {
  "kernelspec": {
   "display_name": "Python 3",
   "language": "python",
   "name": "python3"
  },
  "language_info": {
   "codemirror_mode": {
    "name": "ipython",
    "version": 3
   },
   "file_extension": ".py",
   "mimetype": "text/x-python",
   "name": "python",
   "nbconvert_exporter": "python",
   "pygments_lexer": "ipython3",
   "version": "3.7.7"
  },
  "latex_envs": {
   "LaTeX_envs_menu_present": true,
   "autoclose": false,
   "autocomplete": true,
   "bibliofile": "biblio.bib",
   "cite_by": "apalike",
   "current_citInitial": 1,
   "eqLabelWithNumbers": true,
   "eqNumInitial": 1,
   "hotkeys": {
    "equation": "Ctrl-E",
    "itemize": "Ctrl-I"
   },
   "labels_anchors": false,
   "latex_user_defs": false,
   "report_style_numbering": false,
   "user_envs_cfg": true
  }
 },
 "nbformat": 4,
 "nbformat_minor": 4
}
